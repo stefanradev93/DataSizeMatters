{
 "cells": [
  {
   "cell_type": "code",
   "execution_count": 44,
   "metadata": {},
   "outputs": [],
   "source": [
    "import os\n",
    "import pickle \n",
    "import numpy as np\n",
    "import matplotlib.pyplot as plt\n",
    "import tensorflow_probability as tfp\n",
    "from sklearn.model_selection import train_test_split\n",
    "from sklearn.preprocessing import StandardScaler\n",
    "from tqdm.notebook import tqdm\n",
    "import seaborn as sns\n",
    "import pandas as pd\n",
    "from numba import njit\n",
    "from scipy.stats import skew\n",
    "from scipy.stats import binom\n",
    "from functools import partial\n",
    "np.set_printoptions(suppress=True)\n",
    "\n",
    "# Import our bayesflow lib\n",
    "from deep_bayes.models import BayesFlow, InvariantNetwork\n",
    "from deep_bayes.training import train_online\n",
    "from deep_bayes.losses import maximum_likelihood_loss\n",
    "from deep_bayes.viz import plot_true_est_scatter, plot_true_est_posterior\n",
    "import deep_bayes.diagnostics as diag"
   ]
  },
  {
   "cell_type": "code",
   "execution_count": 45,
   "metadata": {},
   "outputs": [],
   "source": [
    "import tensorflow as tf\n",
    "if tf.__version__.startswith('1'):\n",
    "    tf.enable_eager_execution()"
   ]
  },
  {
   "cell_type": "code",
   "execution_count": 46,
   "metadata": {},
   "outputs": [],
   "source": [
    "%matplotlib inline"
   ]
  },
  {
   "cell_type": "code",
   "execution_count": 47,
   "metadata": {},
   "outputs": [],
   "source": [
    "@njit\n",
    "def diffusion_trial(v, a, zr, ndt_c, ndt_w, dt, max_steps):\n",
    "    \"\"\"Simulates a trial from the diffusion model.\"\"\"\n",
    "\n",
    "    n_steps = 0.\n",
    "    x = a * zr\n",
    "\n",
    "    # Simulate a single DM path\n",
    "    while (x > 0 and x < a and n_steps < max_steps):\n",
    "\n",
    "        # DDM equation\n",
    "        x += v*dt + np.sqrt(dt) * np.random.normal()\n",
    "\n",
    "        # Increment step\n",
    "        n_steps += 1.0\n",
    "\n",
    "    rt = n_steps * dt\n",
    "    return rt + ndt_c if x > 0. else -rt - ndt_w\n",
    "\n",
    "@njit\n",
    "def simulate_diffusion_condition(n_trials, v, a, zr, ndt_c, ndt_w, dt=0.005, max_steps=10000):\n",
    "    \"\"\"Simulates a diffusion process over an entire condition.\"\"\"\n",
    "    \n",
    "    x = np.empty(n_trials)\n",
    "    for i in range(n_trials):\n",
    "        x[i] = diffusion_trial(v, a, zr, ndt_c, ndt_w, dt, max_steps)\n",
    "    return x\n",
    "\n",
    "\n",
    "@njit\n",
    "def simulate_diffusion_2_conds(theta, n_trials, dt=0.005, max_steps=10000):\n",
    "    \"\"\"Simulates a diffusion process for 2 conditions with 7 parameters (v1, v2, a1, a2, ndt1, ndt2, zr=0.5)\"\"\"\n",
    "    \n",
    "    n_trials_c1 = n_trials[0]\n",
    "    n_trials_c2 = n_trials[1]\n",
    "    \n",
    "    \n",
    "    v1, v2, a1, a2, ndt_c, ndt_w = theta\n",
    "    rt_c1 = simulate_diffusion_condition(n_trials_c1, v1, a1, 0.5, ndt_c, ndt_w, dt, max_steps)\n",
    "    rt_c2 = simulate_diffusion_condition(n_trials_c2, v2, a2, 0.5, ndt_c, ndt_w, dt, max_steps)\n",
    "    rts = np.concatenate((rt_c1, rt_c2))\n",
    "    return rts\n",
    "\n",
    "def data_generator(batch_size, n_obs=None, to_tensor=True, n_obs_min=25, n_obs_max=120):\n",
    "    \"\"\"\n",
    "    Runs the forward model 'batch_size' times by first sampling fromt the prior\n",
    "    theta ~ p(theta) and running x ~ p(x|theta) with the specified n_obs. If \n",
    "    n_obs is None, random number of trials for each condition are generated.\n",
    "    ----------\n",
    "    \n",
    "    Arguments:\n",
    "    batch_size : int -- the number of samples to draw from the prior\n",
    "    n_obs      : tuple (int, int) or None -- the numebr of observations to draw from p(x|theta)\n",
    "                                  for each condition\n",
    "    n_obs_min  : int -- the minimum number of observations per condition\n",
    "    n_obs_max  : int -- the maximum number of observations per condition\n",
    "    to_tensor  : boolean -- converts theta and x to tensors if True\n",
    "    ----------\n",
    "    \n",
    "    Output:\n",
    "    theta : tf.Tensor or np.ndarray of shape (batch_size, theta_dim) - the data gen parameters \n",
    "    x     : tf.Tensor of np.ndarray of shape (batch_size, n_obs, x_dim)  - the generated data\n",
    "    \"\"\"\n",
    "    \n",
    "    # Sample from prior\n",
    "    # theta is a np.array of shape (batch_size, theta_dim)\n",
    "    theta = prior(batch_size)\n",
    "    \n",
    "    if n_obs is None:\n",
    "        n_obs = np.random.randint(n_obs_min, n_obs_max+1, 2)\n",
    "    \n",
    "    # Generate data\n",
    "    # x is a np.ndarray of shape (batch_size x n_obs, x_dim)\n",
    "    x = np.apply_along_axis(simulate_diffusion_2_conds, axis=1, arr=theta, n_trials=n_obs)\n",
    "    \n",
    "    # Assign conditions\n",
    "    cond_arr = np.stack( batch_size * [np.concatenate((np.zeros(n_obs[0]), np.ones(n_obs[1])))] )\n",
    "    x = np.stack((x, cond_arr), axis=-1)\n",
    "    \n",
    "    # Convert to tensor, if specified \n",
    "    if to_tensor:\n",
    "        theta = tf.convert_to_tensor(theta, dtype=tf.float32)\n",
    "        x = tf.convert_to_tensor(x, dtype=tf.float32)\n",
    "    return {'theta': theta, 'x': x}"
   ]
  },
  {
   "cell_type": "markdown",
   "metadata": {},
   "source": [
    "# Summary Network Structure\n",
    "Here, we will define the basic outline of a permutation-invariant neural network which maps raw reaction times data to outcomes.\n",
    "<br>\n",
    "See https://arxiv.org/pdf/1901.06082.pdf (p.28) for more details."
   ]
  },
  {
   "cell_type": "code",
   "execution_count": 48,
   "metadata": {
    "code_folding": [
     0,
     53,
     97
    ]
   },
   "outputs": [],
   "source": [
    "class InvariantModule(tf.keras.Model):\n",
    "    \"\"\"Implements an invariant nn module as proposed by Bloem-Reddy and Teh (2019).\"\"\"\n",
    "\n",
    "    def __init__(self, meta, pooler=tf.reduce_mean):\n",
    "        \"\"\"\n",
    "        Creates an invariant function with mean pooling.\n",
    "        ----------\n",
    "\n",
    "        Arguments:\n",
    "        meta : dict -- a dictionary with hyperparameter name - values\n",
    "        \"\"\"\n",
    "\n",
    "        super(InvariantModule, self).__init__()\n",
    "\n",
    "\n",
    "        self.module = tf.keras.Sequential([\n",
    "            tf.keras.layers.Dense(**meta['dense_inv_args'])\n",
    "            for _ in range(meta['n_dense_inv'])\n",
    "        ])\n",
    "        \n",
    "        self.pooler = pooler\n",
    "            \n",
    "\n",
    "        self.post_pooling_dense = tf.keras.Sequential([\n",
    "            tf.keras.layers.Dense(**meta['dense_inv_args'])\n",
    "            for _ in range(meta['n_dense_inv'])\n",
    "        ])\n",
    "\n",
    "    def call(self, x):\n",
    "        \"\"\"\n",
    "        Transofrms the input into an invariant representation.\n",
    "        ----------\n",
    "\n",
    "        Arguments:\n",
    "        x : tf.Tensor of shape (batch_size, n, m) - the input where n is the 'time' or 'samples' dimensions\n",
    "            over which pooling is performed and m is the input dimensionality\n",
    "        ----------\n",
    "\n",
    "        Returns:\n",
    "        out : tf.Tensor of shape (batch_size, h_dim) -- the pooled and invariant representation of the input\n",
    "        \"\"\"\n",
    "\n",
    "        # Embed\n",
    "        x_emb = self.module(x)\n",
    "\n",
    "        # Pool representation\n",
    "        pooled = self.pooler(x_emb, axis=1)\n",
    "    \n",
    "        # Increase representational power\n",
    "        out = self.post_pooling_dense(pooled)\n",
    "        return out\n",
    "\n",
    "\n",
    "class EquivariantModule(tf.keras.Model):\n",
    "    \"\"\"Implements an equivariant nn module as proposed by Bloem-Reddy and Teh (2019).\"\"\"\n",
    "\n",
    "    def __init__(self, meta):\n",
    "        \"\"\"\n",
    "        Creates an equivariant neural network consisting of a FC network with\n",
    "        equal number of hidden units in each layer and an invariant module\n",
    "        with the same FC structure.\n",
    "        ----------\n",
    "\n",
    "        Arguments:\n",
    "        meta : dict -- a dictionary with hyperparameter name - values\n",
    "        \"\"\"\n",
    "\n",
    "        super(EquivariantModule, self).__init__()\n",
    "\n",
    "        self.module = tf.keras.Sequential([\n",
    "            tf.keras.layers.Dense(**meta['dense_equiv_args'])\n",
    "            for _ in range(meta['n_dense_equiv'])\n",
    "        ])\n",
    "\n",
    "        self.invariant_module = InvariantModule(meta)\n",
    "\n",
    "    def call(self, x):\n",
    "        \"\"\"\n",
    "        Transofrms the input into an equivariant representation.\n",
    "        ----------\n",
    "\n",
    "        Arguments:\n",
    "        x : tf.Tensor of shape (batch_size, n, m) - the input where n is the 'time' or 'samples' dimensions\n",
    "            over which pooling is performed and m is the input dimensionality\n",
    "        ----------\n",
    "\n",
    "        Returns:\n",
    "        out : tf.Tensor of shape (batch_size, h_dim) -- the pooled and invariant representation of the input\n",
    "        \"\"\"\n",
    "\n",
    "        x_inv = self.invariant_module(x)\n",
    "        x_inv = tf.stack([x_inv] * int(x.shape[1]), axis=1) # Repeat x_inv n times\n",
    "        x = tf.concat((x_inv, x), axis=-1)\n",
    "        out = self.module(x)\n",
    "        return out\n",
    "\n",
    "\n",
    "class InvariantNetwork(tf.keras.Model):\n",
    "    \"\"\"\n",
    "    Implements a network which parameterizes a\n",
    "    permutationally invariant function according to Bloem-Reddy and Teh (2019).\n",
    "    \"\"\"\n",
    "\n",
    "    def __init__(self, meta):\n",
    "        \"\"\"\n",
    "        Creates a permutationally invariant network\n",
    "        consisting of two equivariant modules and one invariant module.\n",
    "        ----------\n",
    "\n",
    "        Arguments:\n",
    "        meta : dict -- hyperparameter settings for the equivariant and invariant modules\n",
    "        \"\"\"\n",
    "\n",
    "        super(InvariantNetwork, self).__init__()\n",
    "\n",
    "        self.equiv = tf.keras.Sequential([\n",
    "            EquivariantModule(meta)\n",
    "            for _ in range(meta['n_equiv'])\n",
    "        ])\n",
    "        self.inv = InvariantModule(meta)\n",
    "\n",
    "    def call(self, x, **kwargs):\n",
    "        \"\"\"\n",
    "        Transofrms the input into a permutationally invariant\n",
    "        representation by first passing it through multiple equivariant\n",
    "        modules in order to increase representational power.\n",
    "        ----------\n",
    "\n",
    "        Arguments:\n",
    "        x : tf.Tensor of shape (batch_size, n, m) - the input where n is the\n",
    "        'samples' dimensions over which pooling is performed and m is the input dimensionality\n",
    "        ----------\n",
    "\n",
    "        Returns:\n",
    "        out : tf.Tensor of shape (batch_size, h_dim) -- the pooled and invariant representation of the input\n",
    "        \"\"\"\n",
    "\n",
    "        x = self.equiv(x)\n",
    "        out = self.inv(x)\n",
    "        return out"
   ]
  },
  {
   "cell_type": "markdown",
   "metadata": {},
   "source": [
    "# Hyperparameter settings and model definition"
   ]
  },
  {
   "cell_type": "code",
   "execution_count": 49,
   "metadata": {},
   "outputs": [],
   "source": [
    "# Neural network structure\n",
    "summary_meta = {\n",
    "    'dense_inv_args'   :  dict(units=64, activation='elu', kernel_initializer='glorot_normal'),\n",
    "    'dense_equiv_args' :  dict(units=64, activation='elu', kernel_initializer='glorot_normal'),\n",
    "    'dense_post_args'  :  dict(units=64, activation='elu', kernel_initializer='glorot_normal'),\n",
    "    'n_equiv'          :  2,\n",
    "    'n_dense_inv'      :  3,\n",
    "    'n_dense_equiv'    :  3,\n",
    "}\n",
    "\n",
    "# Network hyperparameters\n",
    "inv_meta = {\n",
    "    'n_units': [128, 128, 128],\n",
    "    'activation': 'elu',\n",
    "    'w_decay': 0.00000,\n",
    "    'initializer': 'glorot_uniform'\n",
    "}\n",
    "n_inv_blocks = 4\n",
    "\n",
    "# Forward model hyperparameters\n",
    "param_names = [r'$v_1$', r'$v_2$', r'$a_1$', r'$a_2$', r'$\\tau_{c}$', r'$\\tau_{w}$']\n",
    "theta_dim = len(param_names)\n",
    "n_test = 300\n",
    "n_obs_max = 60\n",
    "n_obs_min = 60\n",
    "n_obs_test = (60, 60)\n",
    "\n",
    "# Utility for online learning\n",
    "data_gen = partial(data_generator, n_obs_min=n_obs_min, n_obs_max=n_obs_max)\n",
    "\n",
    "\n",
    "# Training and optimizer hyperparameters\n",
    "ckpt_file = \"iat_bayesflow\"\n",
    "batch_size = 64\n",
    "epochs = 50\n",
    "iterations_per_epoch = 1000\n",
    "n_samples_posterior = 2000\n",
    "clip_value = 5.\n",
    "\n",
    "learning_rate = 0.001\n",
    "if tf.__version__.startswith('1'):\n",
    "    optimizer = tf.train.AdamOptimizer(learning_rate=learning_rate)\n",
    "else:\n",
    "    optimizer = tf.keras.optimizers.Adam(lr=learning_rate)               "
   ]
  },
  {
   "cell_type": "code",
   "execution_count": 50,
   "metadata": {},
   "outputs": [],
   "source": [
    "summary_net = InvariantNetwork(summary_meta)\n",
    "model = BayesFlow(inv_meta, n_inv_blocks, theta_dim, summary_net=summary_net, permute=True)"
   ]
  },
  {
   "cell_type": "markdown",
   "metadata": {},
   "source": [
    "# Checkpoint manager\n",
    "Used for saving/loading the model."
   ]
  },
  {
   "cell_type": "code",
   "execution_count": 51,
   "metadata": {},
   "outputs": [
    {
     "name": "stdout",
     "output_type": "stream",
     "text": [
      "WARNING:tensorflow:Unresolved object in checkpoint: (root).step\n"
     ]
    },
    {
     "name": "stderr",
     "output_type": "stream",
     "text": [
      "WARNING:tensorflow:Unresolved object in checkpoint: (root).step\n"
     ]
    },
    {
     "name": "stdout",
     "output_type": "stream",
     "text": [
      "WARNING:tensorflow:Unresolved object in checkpoint: (root).optimizer.beta1_power\n"
     ]
    },
    {
     "name": "stderr",
     "output_type": "stream",
     "text": [
      "WARNING:tensorflow:Unresolved object in checkpoint: (root).optimizer.beta1_power\n"
     ]
    },
    {
     "name": "stdout",
     "output_type": "stream",
     "text": [
      "WARNING:tensorflow:Unresolved object in checkpoint: (root).optimizer.beta2_power\n"
     ]
    },
    {
     "name": "stderr",
     "output_type": "stream",
     "text": [
      "WARNING:tensorflow:Unresolved object in checkpoint: (root).optimizer.beta2_power\n"
     ]
    },
    {
     "name": "stdout",
     "output_type": "stream",
     "text": [
      "WARNING:tensorflow:Unused attribute in object (root).net.summary_net.inv.module: ['OBJECT_CONFIG_JSON']\n"
     ]
    },
    {
     "name": "stderr",
     "output_type": "stream",
     "text": [
      "WARNING:tensorflow:Unused attribute in object (root).net.summary_net.inv.module: ['OBJECT_CONFIG_JSON']\n"
     ]
    },
    {
     "name": "stdout",
     "output_type": "stream",
     "text": [
      "WARNING:tensorflow:Unused attribute in object (root).net.summary_net.inv.post_pooling_dense: ['OBJECT_CONFIG_JSON']\n"
     ]
    },
    {
     "name": "stderr",
     "output_type": "stream",
     "text": [
      "WARNING:tensorflow:Unused attribute in object (root).net.summary_net.inv.post_pooling_dense: ['OBJECT_CONFIG_JSON']\n"
     ]
    },
    {
     "name": "stdout",
     "output_type": "stream",
     "text": [
      "WARNING:tensorflow:Unused attribute in object (root).net.cINNs.0.s1.dense: ['OBJECT_CONFIG_JSON']\n"
     ]
    },
    {
     "name": "stderr",
     "output_type": "stream",
     "text": [
      "WARNING:tensorflow:Unused attribute in object (root).net.cINNs.0.s1.dense: ['OBJECT_CONFIG_JSON']\n"
     ]
    },
    {
     "name": "stdout",
     "output_type": "stream",
     "text": [
      "WARNING:tensorflow:Unused attribute in object (root).net.cINNs.0.t1.dense: ['OBJECT_CONFIG_JSON']\n"
     ]
    },
    {
     "name": "stderr",
     "output_type": "stream",
     "text": [
      "WARNING:tensorflow:Unused attribute in object (root).net.cINNs.0.t1.dense: ['OBJECT_CONFIG_JSON']\n"
     ]
    },
    {
     "name": "stdout",
     "output_type": "stream",
     "text": [
      "WARNING:tensorflow:Unused attribute in object (root).net.cINNs.0.s2.dense: ['OBJECT_CONFIG_JSON']\n"
     ]
    },
    {
     "name": "stderr",
     "output_type": "stream",
     "text": [
      "WARNING:tensorflow:Unused attribute in object (root).net.cINNs.0.s2.dense: ['OBJECT_CONFIG_JSON']\n"
     ]
    },
    {
     "name": "stdout",
     "output_type": "stream",
     "text": [
      "WARNING:tensorflow:Unused attribute in object (root).net.cINNs.0.t2.dense: ['OBJECT_CONFIG_JSON']\n"
     ]
    },
    {
     "name": "stderr",
     "output_type": "stream",
     "text": [
      "WARNING:tensorflow:Unused attribute in object (root).net.cINNs.0.t2.dense: ['OBJECT_CONFIG_JSON']\n"
     ]
    },
    {
     "name": "stdout",
     "output_type": "stream",
     "text": [
      "WARNING:tensorflow:Unused attribute in object (root).net.cINNs.1.s1.dense: ['OBJECT_CONFIG_JSON']\n"
     ]
    },
    {
     "name": "stderr",
     "output_type": "stream",
     "text": [
      "WARNING:tensorflow:Unused attribute in object (root).net.cINNs.1.s1.dense: ['OBJECT_CONFIG_JSON']\n"
     ]
    },
    {
     "name": "stdout",
     "output_type": "stream",
     "text": [
      "WARNING:tensorflow:Unused attribute in object (root).net.cINNs.1.t1.dense: ['OBJECT_CONFIG_JSON']\n"
     ]
    },
    {
     "name": "stderr",
     "output_type": "stream",
     "text": [
      "WARNING:tensorflow:Unused attribute in object (root).net.cINNs.1.t1.dense: ['OBJECT_CONFIG_JSON']\n"
     ]
    },
    {
     "name": "stdout",
     "output_type": "stream",
     "text": [
      "WARNING:tensorflow:Unused attribute in object (root).net.cINNs.1.s2.dense: ['OBJECT_CONFIG_JSON']\n"
     ]
    },
    {
     "name": "stderr",
     "output_type": "stream",
     "text": [
      "WARNING:tensorflow:Unused attribute in object (root).net.cINNs.1.s2.dense: ['OBJECT_CONFIG_JSON']\n"
     ]
    },
    {
     "name": "stdout",
     "output_type": "stream",
     "text": [
      "WARNING:tensorflow:Unused attribute in object (root).net.cINNs.1.t2.dense: ['OBJECT_CONFIG_JSON']\n"
     ]
    },
    {
     "name": "stderr",
     "output_type": "stream",
     "text": [
      "WARNING:tensorflow:Unused attribute in object (root).net.cINNs.1.t2.dense: ['OBJECT_CONFIG_JSON']\n"
     ]
    },
    {
     "name": "stdout",
     "output_type": "stream",
     "text": [
      "WARNING:tensorflow:Unused attribute in object (root).net.cINNs.2.s1.dense: ['OBJECT_CONFIG_JSON']\n"
     ]
    },
    {
     "name": "stderr",
     "output_type": "stream",
     "text": [
      "WARNING:tensorflow:Unused attribute in object (root).net.cINNs.2.s1.dense: ['OBJECT_CONFIG_JSON']\n"
     ]
    },
    {
     "name": "stdout",
     "output_type": "stream",
     "text": [
      "WARNING:tensorflow:Unused attribute in object (root).net.cINNs.2.t1.dense: ['OBJECT_CONFIG_JSON']\n"
     ]
    },
    {
     "name": "stderr",
     "output_type": "stream",
     "text": [
      "WARNING:tensorflow:Unused attribute in object (root).net.cINNs.2.t1.dense: ['OBJECT_CONFIG_JSON']\n"
     ]
    },
    {
     "name": "stdout",
     "output_type": "stream",
     "text": [
      "WARNING:tensorflow:Unused attribute in object (root).net.cINNs.2.s2.dense: ['OBJECT_CONFIG_JSON']\n"
     ]
    },
    {
     "name": "stderr",
     "output_type": "stream",
     "text": [
      "WARNING:tensorflow:Unused attribute in object (root).net.cINNs.2.s2.dense: ['OBJECT_CONFIG_JSON']\n"
     ]
    },
    {
     "name": "stdout",
     "output_type": "stream",
     "text": [
      "WARNING:tensorflow:Unused attribute in object (root).net.cINNs.2.t2.dense: ['OBJECT_CONFIG_JSON']\n"
     ]
    },
    {
     "name": "stderr",
     "output_type": "stream",
     "text": [
      "WARNING:tensorflow:Unused attribute in object (root).net.cINNs.2.t2.dense: ['OBJECT_CONFIG_JSON']\n"
     ]
    },
    {
     "name": "stdout",
     "output_type": "stream",
     "text": [
      "WARNING:tensorflow:Unused attribute in object (root).net.cINNs.3.s1.dense: ['OBJECT_CONFIG_JSON']\n"
     ]
    },
    {
     "name": "stderr",
     "output_type": "stream",
     "text": [
      "WARNING:tensorflow:Unused attribute in object (root).net.cINNs.3.s1.dense: ['OBJECT_CONFIG_JSON']\n"
     ]
    },
    {
     "name": "stdout",
     "output_type": "stream",
     "text": [
      "WARNING:tensorflow:Unused attribute in object (root).net.cINNs.3.t1.dense: ['OBJECT_CONFIG_JSON']\n"
     ]
    },
    {
     "name": "stderr",
     "output_type": "stream",
     "text": [
      "WARNING:tensorflow:Unused attribute in object (root).net.cINNs.3.t1.dense: ['OBJECT_CONFIG_JSON']\n"
     ]
    },
    {
     "name": "stdout",
     "output_type": "stream",
     "text": [
      "WARNING:tensorflow:Unused attribute in object (root).net.cINNs.3.s2.dense: ['OBJECT_CONFIG_JSON']\n"
     ]
    },
    {
     "name": "stderr",
     "output_type": "stream",
     "text": [
      "WARNING:tensorflow:Unused attribute in object (root).net.cINNs.3.s2.dense: ['OBJECT_CONFIG_JSON']\n"
     ]
    },
    {
     "name": "stdout",
     "output_type": "stream",
     "text": [
      "WARNING:tensorflow:Unused attribute in object (root).net.cINNs.3.t2.dense: ['OBJECT_CONFIG_JSON']\n"
     ]
    },
    {
     "name": "stderr",
     "output_type": "stream",
     "text": [
      "WARNING:tensorflow:Unused attribute in object (root).net.cINNs.3.t2.dense: ['OBJECT_CONFIG_JSON']\n"
     ]
    },
    {
     "name": "stdout",
     "output_type": "stream",
     "text": [
      "WARNING:tensorflow:Unused attribute in object (root).net.summary_net.equiv.layer-0.module: ['OBJECT_CONFIG_JSON']\n"
     ]
    },
    {
     "name": "stderr",
     "output_type": "stream",
     "text": [
      "WARNING:tensorflow:Unused attribute in object (root).net.summary_net.equiv.layer-0.module: ['OBJECT_CONFIG_JSON']\n"
     ]
    },
    {
     "name": "stdout",
     "output_type": "stream",
     "text": [
      "WARNING:tensorflow:Unused attribute in object (root).net.summary_net.equiv.layer-1.module: ['OBJECT_CONFIG_JSON']\n"
     ]
    },
    {
     "name": "stderr",
     "output_type": "stream",
     "text": [
      "WARNING:tensorflow:Unused attribute in object (root).net.summary_net.equiv.layer-1.module: ['OBJECT_CONFIG_JSON']\n"
     ]
    },
    {
     "name": "stdout",
     "output_type": "stream",
     "text": [
      "WARNING:tensorflow:Unused attribute in object (root).net.summary_net.inv.module.layer-0: ['OBJECT_CONFIG_JSON']\n"
     ]
    },
    {
     "name": "stderr",
     "output_type": "stream",
     "text": [
      "WARNING:tensorflow:Unused attribute in object (root).net.summary_net.inv.module.layer-0: ['OBJECT_CONFIG_JSON']\n"
     ]
    },
    {
     "name": "stdout",
     "output_type": "stream",
     "text": [
      "WARNING:tensorflow:Unused attribute in object (root).net.summary_net.inv.module.layer-1: ['OBJECT_CONFIG_JSON']\n"
     ]
    },
    {
     "name": "stderr",
     "output_type": "stream",
     "text": [
      "WARNING:tensorflow:Unused attribute in object (root).net.summary_net.inv.module.layer-1: ['OBJECT_CONFIG_JSON']\n"
     ]
    },
    {
     "name": "stdout",
     "output_type": "stream",
     "text": [
      "WARNING:tensorflow:Unused attribute in object (root).net.summary_net.inv.module.layer-2: ['OBJECT_CONFIG_JSON']\n"
     ]
    },
    {
     "name": "stderr",
     "output_type": "stream",
     "text": [
      "WARNING:tensorflow:Unused attribute in object (root).net.summary_net.inv.module.layer-2: ['OBJECT_CONFIG_JSON']\n"
     ]
    },
    {
     "name": "stdout",
     "output_type": "stream",
     "text": [
      "WARNING:tensorflow:Unused attribute in object (root).net.summary_net.inv.post_pooling_dense.layer-0: ['OBJECT_CONFIG_JSON']\n"
     ]
    },
    {
     "name": "stderr",
     "output_type": "stream",
     "text": [
      "WARNING:tensorflow:Unused attribute in object (root).net.summary_net.inv.post_pooling_dense.layer-0: ['OBJECT_CONFIG_JSON']\n"
     ]
    },
    {
     "name": "stdout",
     "output_type": "stream",
     "text": [
      "WARNING:tensorflow:Unused attribute in object (root).net.summary_net.inv.post_pooling_dense.layer-1: ['OBJECT_CONFIG_JSON']\n"
     ]
    },
    {
     "name": "stderr",
     "output_type": "stream",
     "text": [
      "WARNING:tensorflow:Unused attribute in object (root).net.summary_net.inv.post_pooling_dense.layer-1: ['OBJECT_CONFIG_JSON']\n"
     ]
    },
    {
     "name": "stdout",
     "output_type": "stream",
     "text": [
      "WARNING:tensorflow:Unused attribute in object (root).net.summary_net.inv.post_pooling_dense.layer-2: ['OBJECT_CONFIG_JSON']\n"
     ]
    },
    {
     "name": "stderr",
     "output_type": "stream",
     "text": [
      "WARNING:tensorflow:Unused attribute in object (root).net.summary_net.inv.post_pooling_dense.layer-2: ['OBJECT_CONFIG_JSON']\n"
     ]
    },
    {
     "name": "stdout",
     "output_type": "stream",
     "text": [
      "WARNING:tensorflow:Unused attribute in object (root).net.cINNs.0.s1.dense.layer-0: ['OBJECT_CONFIG_JSON']\n"
     ]
    },
    {
     "name": "stderr",
     "output_type": "stream",
     "text": [
      "WARNING:tensorflow:Unused attribute in object (root).net.cINNs.0.s1.dense.layer-0: ['OBJECT_CONFIG_JSON']\n"
     ]
    },
    {
     "name": "stdout",
     "output_type": "stream",
     "text": [
      "WARNING:tensorflow:Unused attribute in object (root).net.cINNs.0.s1.dense.layer-1: ['OBJECT_CONFIG_JSON']\n"
     ]
    },
    {
     "name": "stderr",
     "output_type": "stream",
     "text": [
      "WARNING:tensorflow:Unused attribute in object (root).net.cINNs.0.s1.dense.layer-1: ['OBJECT_CONFIG_JSON']\n"
     ]
    },
    {
     "name": "stdout",
     "output_type": "stream",
     "text": [
      "WARNING:tensorflow:Unused attribute in object (root).net.cINNs.0.s1.dense.layer-2: ['OBJECT_CONFIG_JSON']\n"
     ]
    },
    {
     "name": "stderr",
     "output_type": "stream",
     "text": [
      "WARNING:tensorflow:Unused attribute in object (root).net.cINNs.0.s1.dense.layer-2: ['OBJECT_CONFIG_JSON']\n"
     ]
    },
    {
     "name": "stdout",
     "output_type": "stream",
     "text": [
      "WARNING:tensorflow:Unused attribute in object (root).net.cINNs.0.s1.dense.layer-3: ['OBJECT_CONFIG_JSON']\n"
     ]
    },
    {
     "name": "stderr",
     "output_type": "stream",
     "text": [
      "WARNING:tensorflow:Unused attribute in object (root).net.cINNs.0.s1.dense.layer-3: ['OBJECT_CONFIG_JSON']\n"
     ]
    },
    {
     "name": "stdout",
     "output_type": "stream",
     "text": [
      "WARNING:tensorflow:Unused attribute in object (root).net.cINNs.0.t1.dense.layer-0: ['OBJECT_CONFIG_JSON']\n"
     ]
    },
    {
     "name": "stderr",
     "output_type": "stream",
     "text": [
      "WARNING:tensorflow:Unused attribute in object (root).net.cINNs.0.t1.dense.layer-0: ['OBJECT_CONFIG_JSON']\n"
     ]
    },
    {
     "name": "stdout",
     "output_type": "stream",
     "text": [
      "WARNING:tensorflow:Unused attribute in object (root).net.cINNs.0.t1.dense.layer-1: ['OBJECT_CONFIG_JSON']\n"
     ]
    },
    {
     "name": "stderr",
     "output_type": "stream",
     "text": [
      "WARNING:tensorflow:Unused attribute in object (root).net.cINNs.0.t1.dense.layer-1: ['OBJECT_CONFIG_JSON']\n"
     ]
    },
    {
     "name": "stdout",
     "output_type": "stream",
     "text": [
      "WARNING:tensorflow:Unused attribute in object (root).net.cINNs.0.t1.dense.layer-2: ['OBJECT_CONFIG_JSON']\n"
     ]
    },
    {
     "name": "stderr",
     "output_type": "stream",
     "text": [
      "WARNING:tensorflow:Unused attribute in object (root).net.cINNs.0.t1.dense.layer-2: ['OBJECT_CONFIG_JSON']\n"
     ]
    },
    {
     "name": "stdout",
     "output_type": "stream",
     "text": [
      "WARNING:tensorflow:Unused attribute in object (root).net.cINNs.0.t1.dense.layer-3: ['OBJECT_CONFIG_JSON']\n"
     ]
    },
    {
     "name": "stderr",
     "output_type": "stream",
     "text": [
      "WARNING:tensorflow:Unused attribute in object (root).net.cINNs.0.t1.dense.layer-3: ['OBJECT_CONFIG_JSON']\n"
     ]
    },
    {
     "name": "stdout",
     "output_type": "stream",
     "text": [
      "WARNING:tensorflow:Unused attribute in object (root).net.cINNs.0.s2.dense.layer-0: ['OBJECT_CONFIG_JSON']\n"
     ]
    },
    {
     "name": "stderr",
     "output_type": "stream",
     "text": [
      "WARNING:tensorflow:Unused attribute in object (root).net.cINNs.0.s2.dense.layer-0: ['OBJECT_CONFIG_JSON']\n"
     ]
    },
    {
     "name": "stdout",
     "output_type": "stream",
     "text": [
      "WARNING:tensorflow:Unused attribute in object (root).net.cINNs.0.s2.dense.layer-1: ['OBJECT_CONFIG_JSON']\n"
     ]
    },
    {
     "name": "stderr",
     "output_type": "stream",
     "text": [
      "WARNING:tensorflow:Unused attribute in object (root).net.cINNs.0.s2.dense.layer-1: ['OBJECT_CONFIG_JSON']\n"
     ]
    },
    {
     "name": "stdout",
     "output_type": "stream",
     "text": [
      "WARNING:tensorflow:Unused attribute in object (root).net.cINNs.0.s2.dense.layer-2: ['OBJECT_CONFIG_JSON']\n"
     ]
    },
    {
     "name": "stderr",
     "output_type": "stream",
     "text": [
      "WARNING:tensorflow:Unused attribute in object (root).net.cINNs.0.s2.dense.layer-2: ['OBJECT_CONFIG_JSON']\n"
     ]
    },
    {
     "name": "stdout",
     "output_type": "stream",
     "text": [
      "WARNING:tensorflow:Unused attribute in object (root).net.cINNs.0.s2.dense.layer-3: ['OBJECT_CONFIG_JSON']\n"
     ]
    },
    {
     "name": "stderr",
     "output_type": "stream",
     "text": [
      "WARNING:tensorflow:Unused attribute in object (root).net.cINNs.0.s2.dense.layer-3: ['OBJECT_CONFIG_JSON']\n"
     ]
    },
    {
     "name": "stdout",
     "output_type": "stream",
     "text": [
      "WARNING:tensorflow:Unused attribute in object (root).net.cINNs.0.t2.dense.layer-0: ['OBJECT_CONFIG_JSON']\n"
     ]
    },
    {
     "name": "stderr",
     "output_type": "stream",
     "text": [
      "WARNING:tensorflow:Unused attribute in object (root).net.cINNs.0.t2.dense.layer-0: ['OBJECT_CONFIG_JSON']\n"
     ]
    },
    {
     "name": "stdout",
     "output_type": "stream",
     "text": [
      "WARNING:tensorflow:Unused attribute in object (root).net.cINNs.0.t2.dense.layer-1: ['OBJECT_CONFIG_JSON']\n"
     ]
    },
    {
     "name": "stderr",
     "output_type": "stream",
     "text": [
      "WARNING:tensorflow:Unused attribute in object (root).net.cINNs.0.t2.dense.layer-1: ['OBJECT_CONFIG_JSON']\n"
     ]
    },
    {
     "name": "stdout",
     "output_type": "stream",
     "text": [
      "WARNING:tensorflow:Unused attribute in object (root).net.cINNs.0.t2.dense.layer-2: ['OBJECT_CONFIG_JSON']\n"
     ]
    },
    {
     "name": "stderr",
     "output_type": "stream",
     "text": [
      "WARNING:tensorflow:Unused attribute in object (root).net.cINNs.0.t2.dense.layer-2: ['OBJECT_CONFIG_JSON']\n"
     ]
    },
    {
     "name": "stdout",
     "output_type": "stream",
     "text": [
      "WARNING:tensorflow:Unused attribute in object (root).net.cINNs.0.t2.dense.layer-3: ['OBJECT_CONFIG_JSON']\n"
     ]
    },
    {
     "name": "stderr",
     "output_type": "stream",
     "text": [
      "WARNING:tensorflow:Unused attribute in object (root).net.cINNs.0.t2.dense.layer-3: ['OBJECT_CONFIG_JSON']\n"
     ]
    },
    {
     "name": "stdout",
     "output_type": "stream",
     "text": [
      "WARNING:tensorflow:Unused attribute in object (root).net.cINNs.1.s1.dense.layer-0: ['OBJECT_CONFIG_JSON']\n"
     ]
    },
    {
     "name": "stderr",
     "output_type": "stream",
     "text": [
      "WARNING:tensorflow:Unused attribute in object (root).net.cINNs.1.s1.dense.layer-0: ['OBJECT_CONFIG_JSON']\n"
     ]
    },
    {
     "name": "stdout",
     "output_type": "stream",
     "text": [
      "WARNING:tensorflow:Unused attribute in object (root).net.cINNs.1.s1.dense.layer-1: ['OBJECT_CONFIG_JSON']\n"
     ]
    },
    {
     "name": "stderr",
     "output_type": "stream",
     "text": [
      "WARNING:tensorflow:Unused attribute in object (root).net.cINNs.1.s1.dense.layer-1: ['OBJECT_CONFIG_JSON']\n"
     ]
    },
    {
     "name": "stdout",
     "output_type": "stream",
     "text": [
      "WARNING:tensorflow:Unused attribute in object (root).net.cINNs.1.s1.dense.layer-2: ['OBJECT_CONFIG_JSON']\n"
     ]
    },
    {
     "name": "stderr",
     "output_type": "stream",
     "text": [
      "WARNING:tensorflow:Unused attribute in object (root).net.cINNs.1.s1.dense.layer-2: ['OBJECT_CONFIG_JSON']\n"
     ]
    },
    {
     "name": "stdout",
     "output_type": "stream",
     "text": [
      "WARNING:tensorflow:Unused attribute in object (root).net.cINNs.1.s1.dense.layer-3: ['OBJECT_CONFIG_JSON']\n"
     ]
    },
    {
     "name": "stderr",
     "output_type": "stream",
     "text": [
      "WARNING:tensorflow:Unused attribute in object (root).net.cINNs.1.s1.dense.layer-3: ['OBJECT_CONFIG_JSON']\n"
     ]
    },
    {
     "name": "stdout",
     "output_type": "stream",
     "text": [
      "WARNING:tensorflow:Unused attribute in object (root).net.cINNs.1.t1.dense.layer-0: ['OBJECT_CONFIG_JSON']\n"
     ]
    },
    {
     "name": "stderr",
     "output_type": "stream",
     "text": [
      "WARNING:tensorflow:Unused attribute in object (root).net.cINNs.1.t1.dense.layer-0: ['OBJECT_CONFIG_JSON']\n"
     ]
    },
    {
     "name": "stdout",
     "output_type": "stream",
     "text": [
      "WARNING:tensorflow:Unused attribute in object (root).net.cINNs.1.t1.dense.layer-1: ['OBJECT_CONFIG_JSON']\n"
     ]
    },
    {
     "name": "stderr",
     "output_type": "stream",
     "text": [
      "WARNING:tensorflow:Unused attribute in object (root).net.cINNs.1.t1.dense.layer-1: ['OBJECT_CONFIG_JSON']\n"
     ]
    },
    {
     "name": "stdout",
     "output_type": "stream",
     "text": [
      "WARNING:tensorflow:Unused attribute in object (root).net.cINNs.1.t1.dense.layer-2: ['OBJECT_CONFIG_JSON']\n"
     ]
    },
    {
     "name": "stderr",
     "output_type": "stream",
     "text": [
      "WARNING:tensorflow:Unused attribute in object (root).net.cINNs.1.t1.dense.layer-2: ['OBJECT_CONFIG_JSON']\n"
     ]
    },
    {
     "name": "stdout",
     "output_type": "stream",
     "text": [
      "WARNING:tensorflow:Unused attribute in object (root).net.cINNs.1.t1.dense.layer-3: ['OBJECT_CONFIG_JSON']\n"
     ]
    },
    {
     "name": "stderr",
     "output_type": "stream",
     "text": [
      "WARNING:tensorflow:Unused attribute in object (root).net.cINNs.1.t1.dense.layer-3: ['OBJECT_CONFIG_JSON']\n"
     ]
    },
    {
     "name": "stdout",
     "output_type": "stream",
     "text": [
      "WARNING:tensorflow:Unused attribute in object (root).net.cINNs.1.s2.dense.layer-0: ['OBJECT_CONFIG_JSON']\n"
     ]
    },
    {
     "name": "stderr",
     "output_type": "stream",
     "text": [
      "WARNING:tensorflow:Unused attribute in object (root).net.cINNs.1.s2.dense.layer-0: ['OBJECT_CONFIG_JSON']\n"
     ]
    },
    {
     "name": "stdout",
     "output_type": "stream",
     "text": [
      "WARNING:tensorflow:Unused attribute in object (root).net.cINNs.1.s2.dense.layer-1: ['OBJECT_CONFIG_JSON']\n"
     ]
    },
    {
     "name": "stderr",
     "output_type": "stream",
     "text": [
      "WARNING:tensorflow:Unused attribute in object (root).net.cINNs.1.s2.dense.layer-1: ['OBJECT_CONFIG_JSON']\n"
     ]
    },
    {
     "name": "stdout",
     "output_type": "stream",
     "text": [
      "WARNING:tensorflow:Unused attribute in object (root).net.cINNs.1.s2.dense.layer-2: ['OBJECT_CONFIG_JSON']\n"
     ]
    },
    {
     "name": "stderr",
     "output_type": "stream",
     "text": [
      "WARNING:tensorflow:Unused attribute in object (root).net.cINNs.1.s2.dense.layer-2: ['OBJECT_CONFIG_JSON']\n"
     ]
    },
    {
     "name": "stdout",
     "output_type": "stream",
     "text": [
      "WARNING:tensorflow:Unused attribute in object (root).net.cINNs.1.s2.dense.layer-3: ['OBJECT_CONFIG_JSON']\n"
     ]
    },
    {
     "name": "stderr",
     "output_type": "stream",
     "text": [
      "WARNING:tensorflow:Unused attribute in object (root).net.cINNs.1.s2.dense.layer-3: ['OBJECT_CONFIG_JSON']\n"
     ]
    },
    {
     "name": "stdout",
     "output_type": "stream",
     "text": [
      "WARNING:tensorflow:Unused attribute in object (root).net.cINNs.1.t2.dense.layer-0: ['OBJECT_CONFIG_JSON']\n"
     ]
    },
    {
     "name": "stderr",
     "output_type": "stream",
     "text": [
      "WARNING:tensorflow:Unused attribute in object (root).net.cINNs.1.t2.dense.layer-0: ['OBJECT_CONFIG_JSON']\n"
     ]
    },
    {
     "name": "stdout",
     "output_type": "stream",
     "text": [
      "WARNING:tensorflow:Unused attribute in object (root).net.cINNs.1.t2.dense.layer-1: ['OBJECT_CONFIG_JSON']\n"
     ]
    },
    {
     "name": "stderr",
     "output_type": "stream",
     "text": [
      "WARNING:tensorflow:Unused attribute in object (root).net.cINNs.1.t2.dense.layer-1: ['OBJECT_CONFIG_JSON']\n"
     ]
    },
    {
     "name": "stdout",
     "output_type": "stream",
     "text": [
      "WARNING:tensorflow:Unused attribute in object (root).net.cINNs.1.t2.dense.layer-2: ['OBJECT_CONFIG_JSON']\n"
     ]
    },
    {
     "name": "stderr",
     "output_type": "stream",
     "text": [
      "WARNING:tensorflow:Unused attribute in object (root).net.cINNs.1.t2.dense.layer-2: ['OBJECT_CONFIG_JSON']\n"
     ]
    },
    {
     "name": "stdout",
     "output_type": "stream",
     "text": [
      "WARNING:tensorflow:Unused attribute in object (root).net.cINNs.1.t2.dense.layer-3: ['OBJECT_CONFIG_JSON']\n"
     ]
    },
    {
     "name": "stderr",
     "output_type": "stream",
     "text": [
      "WARNING:tensorflow:Unused attribute in object (root).net.cINNs.1.t2.dense.layer-3: ['OBJECT_CONFIG_JSON']\n"
     ]
    },
    {
     "name": "stdout",
     "output_type": "stream",
     "text": [
      "WARNING:tensorflow:Unused attribute in object (root).net.cINNs.2.s1.dense.layer-0: ['OBJECT_CONFIG_JSON']\n"
     ]
    },
    {
     "name": "stderr",
     "output_type": "stream",
     "text": [
      "WARNING:tensorflow:Unused attribute in object (root).net.cINNs.2.s1.dense.layer-0: ['OBJECT_CONFIG_JSON']\n"
     ]
    },
    {
     "name": "stdout",
     "output_type": "stream",
     "text": [
      "WARNING:tensorflow:Unused attribute in object (root).net.cINNs.2.s1.dense.layer-1: ['OBJECT_CONFIG_JSON']\n"
     ]
    },
    {
     "name": "stderr",
     "output_type": "stream",
     "text": [
      "WARNING:tensorflow:Unused attribute in object (root).net.cINNs.2.s1.dense.layer-1: ['OBJECT_CONFIG_JSON']\n"
     ]
    },
    {
     "name": "stdout",
     "output_type": "stream",
     "text": [
      "WARNING:tensorflow:Unused attribute in object (root).net.cINNs.2.s1.dense.layer-2: ['OBJECT_CONFIG_JSON']\n"
     ]
    },
    {
     "name": "stderr",
     "output_type": "stream",
     "text": [
      "WARNING:tensorflow:Unused attribute in object (root).net.cINNs.2.s1.dense.layer-2: ['OBJECT_CONFIG_JSON']\n"
     ]
    },
    {
     "name": "stdout",
     "output_type": "stream",
     "text": [
      "WARNING:tensorflow:Unused attribute in object (root).net.cINNs.2.s1.dense.layer-3: ['OBJECT_CONFIG_JSON']\n"
     ]
    },
    {
     "name": "stderr",
     "output_type": "stream",
     "text": [
      "WARNING:tensorflow:Unused attribute in object (root).net.cINNs.2.s1.dense.layer-3: ['OBJECT_CONFIG_JSON']\n"
     ]
    },
    {
     "name": "stdout",
     "output_type": "stream",
     "text": [
      "WARNING:tensorflow:Unused attribute in object (root).net.cINNs.2.t1.dense.layer-0: ['OBJECT_CONFIG_JSON']\n"
     ]
    },
    {
     "name": "stderr",
     "output_type": "stream",
     "text": [
      "WARNING:tensorflow:Unused attribute in object (root).net.cINNs.2.t1.dense.layer-0: ['OBJECT_CONFIG_JSON']\n"
     ]
    },
    {
     "name": "stdout",
     "output_type": "stream",
     "text": [
      "WARNING:tensorflow:Unused attribute in object (root).net.cINNs.2.t1.dense.layer-1: ['OBJECT_CONFIG_JSON']\n"
     ]
    },
    {
     "name": "stderr",
     "output_type": "stream",
     "text": [
      "WARNING:tensorflow:Unused attribute in object (root).net.cINNs.2.t1.dense.layer-1: ['OBJECT_CONFIG_JSON']\n"
     ]
    },
    {
     "name": "stdout",
     "output_type": "stream",
     "text": [
      "WARNING:tensorflow:Unused attribute in object (root).net.cINNs.2.t1.dense.layer-2: ['OBJECT_CONFIG_JSON']\n"
     ]
    },
    {
     "name": "stderr",
     "output_type": "stream",
     "text": [
      "WARNING:tensorflow:Unused attribute in object (root).net.cINNs.2.t1.dense.layer-2: ['OBJECT_CONFIG_JSON']\n"
     ]
    },
    {
     "name": "stdout",
     "output_type": "stream",
     "text": [
      "WARNING:tensorflow:Unused attribute in object (root).net.cINNs.2.t1.dense.layer-3: ['OBJECT_CONFIG_JSON']\n"
     ]
    },
    {
     "name": "stderr",
     "output_type": "stream",
     "text": [
      "WARNING:tensorflow:Unused attribute in object (root).net.cINNs.2.t1.dense.layer-3: ['OBJECT_CONFIG_JSON']\n"
     ]
    },
    {
     "name": "stdout",
     "output_type": "stream",
     "text": [
      "WARNING:tensorflow:Unused attribute in object (root).net.cINNs.2.s2.dense.layer-0: ['OBJECT_CONFIG_JSON']\n"
     ]
    },
    {
     "name": "stderr",
     "output_type": "stream",
     "text": [
      "WARNING:tensorflow:Unused attribute in object (root).net.cINNs.2.s2.dense.layer-0: ['OBJECT_CONFIG_JSON']\n"
     ]
    },
    {
     "name": "stdout",
     "output_type": "stream",
     "text": [
      "WARNING:tensorflow:Unused attribute in object (root).net.cINNs.2.s2.dense.layer-1: ['OBJECT_CONFIG_JSON']\n"
     ]
    },
    {
     "name": "stderr",
     "output_type": "stream",
     "text": [
      "WARNING:tensorflow:Unused attribute in object (root).net.cINNs.2.s2.dense.layer-1: ['OBJECT_CONFIG_JSON']\n"
     ]
    },
    {
     "name": "stdout",
     "output_type": "stream",
     "text": [
      "WARNING:tensorflow:Unused attribute in object (root).net.cINNs.2.s2.dense.layer-2: ['OBJECT_CONFIG_JSON']\n"
     ]
    },
    {
     "name": "stderr",
     "output_type": "stream",
     "text": [
      "WARNING:tensorflow:Unused attribute in object (root).net.cINNs.2.s2.dense.layer-2: ['OBJECT_CONFIG_JSON']\n"
     ]
    },
    {
     "name": "stdout",
     "output_type": "stream",
     "text": [
      "WARNING:tensorflow:Unused attribute in object (root).net.cINNs.2.s2.dense.layer-3: ['OBJECT_CONFIG_JSON']\n"
     ]
    },
    {
     "name": "stderr",
     "output_type": "stream",
     "text": [
      "WARNING:tensorflow:Unused attribute in object (root).net.cINNs.2.s2.dense.layer-3: ['OBJECT_CONFIG_JSON']\n"
     ]
    },
    {
     "name": "stdout",
     "output_type": "stream",
     "text": [
      "WARNING:tensorflow:Unused attribute in object (root).net.cINNs.2.t2.dense.layer-0: ['OBJECT_CONFIG_JSON']\n"
     ]
    },
    {
     "name": "stderr",
     "output_type": "stream",
     "text": [
      "WARNING:tensorflow:Unused attribute in object (root).net.cINNs.2.t2.dense.layer-0: ['OBJECT_CONFIG_JSON']\n"
     ]
    },
    {
     "name": "stdout",
     "output_type": "stream",
     "text": [
      "WARNING:tensorflow:Unused attribute in object (root).net.cINNs.2.t2.dense.layer-1: ['OBJECT_CONFIG_JSON']\n"
     ]
    },
    {
     "name": "stderr",
     "output_type": "stream",
     "text": [
      "WARNING:tensorflow:Unused attribute in object (root).net.cINNs.2.t2.dense.layer-1: ['OBJECT_CONFIG_JSON']\n"
     ]
    },
    {
     "name": "stdout",
     "output_type": "stream",
     "text": [
      "WARNING:tensorflow:Unused attribute in object (root).net.cINNs.2.t2.dense.layer-2: ['OBJECT_CONFIG_JSON']\n"
     ]
    },
    {
     "name": "stderr",
     "output_type": "stream",
     "text": [
      "WARNING:tensorflow:Unused attribute in object (root).net.cINNs.2.t2.dense.layer-2: ['OBJECT_CONFIG_JSON']\n"
     ]
    },
    {
     "name": "stdout",
     "output_type": "stream",
     "text": [
      "WARNING:tensorflow:Unused attribute in object (root).net.cINNs.2.t2.dense.layer-3: ['OBJECT_CONFIG_JSON']\n"
     ]
    },
    {
     "name": "stderr",
     "output_type": "stream",
     "text": [
      "WARNING:tensorflow:Unused attribute in object (root).net.cINNs.2.t2.dense.layer-3: ['OBJECT_CONFIG_JSON']\n"
     ]
    },
    {
     "name": "stdout",
     "output_type": "stream",
     "text": [
      "WARNING:tensorflow:Unused attribute in object (root).net.cINNs.3.s1.dense.layer-0: ['OBJECT_CONFIG_JSON']\n"
     ]
    },
    {
     "name": "stderr",
     "output_type": "stream",
     "text": [
      "WARNING:tensorflow:Unused attribute in object (root).net.cINNs.3.s1.dense.layer-0: ['OBJECT_CONFIG_JSON']\n"
     ]
    },
    {
     "name": "stdout",
     "output_type": "stream",
     "text": [
      "WARNING:tensorflow:Unused attribute in object (root).net.cINNs.3.s1.dense.layer-1: ['OBJECT_CONFIG_JSON']\n"
     ]
    },
    {
     "name": "stderr",
     "output_type": "stream",
     "text": [
      "WARNING:tensorflow:Unused attribute in object (root).net.cINNs.3.s1.dense.layer-1: ['OBJECT_CONFIG_JSON']\n"
     ]
    },
    {
     "name": "stdout",
     "output_type": "stream",
     "text": [
      "WARNING:tensorflow:Unused attribute in object (root).net.cINNs.3.s1.dense.layer-2: ['OBJECT_CONFIG_JSON']\n"
     ]
    },
    {
     "name": "stderr",
     "output_type": "stream",
     "text": [
      "WARNING:tensorflow:Unused attribute in object (root).net.cINNs.3.s1.dense.layer-2: ['OBJECT_CONFIG_JSON']\n"
     ]
    },
    {
     "name": "stdout",
     "output_type": "stream",
     "text": [
      "WARNING:tensorflow:Unused attribute in object (root).net.cINNs.3.s1.dense.layer-3: ['OBJECT_CONFIG_JSON']\n"
     ]
    },
    {
     "name": "stderr",
     "output_type": "stream",
     "text": [
      "WARNING:tensorflow:Unused attribute in object (root).net.cINNs.3.s1.dense.layer-3: ['OBJECT_CONFIG_JSON']\n"
     ]
    },
    {
     "name": "stdout",
     "output_type": "stream",
     "text": [
      "WARNING:tensorflow:Unused attribute in object (root).net.cINNs.3.t1.dense.layer-0: ['OBJECT_CONFIG_JSON']\n"
     ]
    },
    {
     "name": "stderr",
     "output_type": "stream",
     "text": [
      "WARNING:tensorflow:Unused attribute in object (root).net.cINNs.3.t1.dense.layer-0: ['OBJECT_CONFIG_JSON']\n"
     ]
    },
    {
     "name": "stdout",
     "output_type": "stream",
     "text": [
      "WARNING:tensorflow:Unused attribute in object (root).net.cINNs.3.t1.dense.layer-1: ['OBJECT_CONFIG_JSON']\n"
     ]
    },
    {
     "name": "stderr",
     "output_type": "stream",
     "text": [
      "WARNING:tensorflow:Unused attribute in object (root).net.cINNs.3.t1.dense.layer-1: ['OBJECT_CONFIG_JSON']\n"
     ]
    },
    {
     "name": "stdout",
     "output_type": "stream",
     "text": [
      "WARNING:tensorflow:Unused attribute in object (root).net.cINNs.3.t1.dense.layer-2: ['OBJECT_CONFIG_JSON']\n"
     ]
    },
    {
     "name": "stderr",
     "output_type": "stream",
     "text": [
      "WARNING:tensorflow:Unused attribute in object (root).net.cINNs.3.t1.dense.layer-2: ['OBJECT_CONFIG_JSON']\n"
     ]
    },
    {
     "name": "stdout",
     "output_type": "stream",
     "text": [
      "WARNING:tensorflow:Unused attribute in object (root).net.cINNs.3.t1.dense.layer-3: ['OBJECT_CONFIG_JSON']\n"
     ]
    },
    {
     "name": "stderr",
     "output_type": "stream",
     "text": [
      "WARNING:tensorflow:Unused attribute in object (root).net.cINNs.3.t1.dense.layer-3: ['OBJECT_CONFIG_JSON']\n"
     ]
    },
    {
     "name": "stdout",
     "output_type": "stream",
     "text": [
      "WARNING:tensorflow:Unused attribute in object (root).net.cINNs.3.s2.dense.layer-0: ['OBJECT_CONFIG_JSON']\n"
     ]
    },
    {
     "name": "stderr",
     "output_type": "stream",
     "text": [
      "WARNING:tensorflow:Unused attribute in object (root).net.cINNs.3.s2.dense.layer-0: ['OBJECT_CONFIG_JSON']\n"
     ]
    },
    {
     "name": "stdout",
     "output_type": "stream",
     "text": [
      "WARNING:tensorflow:Unused attribute in object (root).net.cINNs.3.s2.dense.layer-1: ['OBJECT_CONFIG_JSON']\n"
     ]
    },
    {
     "name": "stderr",
     "output_type": "stream",
     "text": [
      "WARNING:tensorflow:Unused attribute in object (root).net.cINNs.3.s2.dense.layer-1: ['OBJECT_CONFIG_JSON']\n"
     ]
    },
    {
     "name": "stdout",
     "output_type": "stream",
     "text": [
      "WARNING:tensorflow:Unused attribute in object (root).net.cINNs.3.s2.dense.layer-2: ['OBJECT_CONFIG_JSON']\n"
     ]
    },
    {
     "name": "stderr",
     "output_type": "stream",
     "text": [
      "WARNING:tensorflow:Unused attribute in object (root).net.cINNs.3.s2.dense.layer-2: ['OBJECT_CONFIG_JSON']\n"
     ]
    },
    {
     "name": "stdout",
     "output_type": "stream",
     "text": [
      "WARNING:tensorflow:Unused attribute in object (root).net.cINNs.3.s2.dense.layer-3: ['OBJECT_CONFIG_JSON']\n"
     ]
    },
    {
     "name": "stderr",
     "output_type": "stream",
     "text": [
      "WARNING:tensorflow:Unused attribute in object (root).net.cINNs.3.s2.dense.layer-3: ['OBJECT_CONFIG_JSON']\n"
     ]
    },
    {
     "name": "stdout",
     "output_type": "stream",
     "text": [
      "WARNING:tensorflow:Unused attribute in object (root).net.cINNs.3.t2.dense.layer-0: ['OBJECT_CONFIG_JSON']\n"
     ]
    },
    {
     "name": "stderr",
     "output_type": "stream",
     "text": [
      "WARNING:tensorflow:Unused attribute in object (root).net.cINNs.3.t2.dense.layer-0: ['OBJECT_CONFIG_JSON']\n"
     ]
    },
    {
     "name": "stdout",
     "output_type": "stream",
     "text": [
      "WARNING:tensorflow:Unused attribute in object (root).net.cINNs.3.t2.dense.layer-1: ['OBJECT_CONFIG_JSON']\n"
     ]
    },
    {
     "name": "stderr",
     "output_type": "stream",
     "text": [
      "WARNING:tensorflow:Unused attribute in object (root).net.cINNs.3.t2.dense.layer-1: ['OBJECT_CONFIG_JSON']\n"
     ]
    },
    {
     "name": "stdout",
     "output_type": "stream",
     "text": [
      "WARNING:tensorflow:Unused attribute in object (root).net.cINNs.3.t2.dense.layer-2: ['OBJECT_CONFIG_JSON']\n"
     ]
    },
    {
     "name": "stderr",
     "output_type": "stream",
     "text": [
      "WARNING:tensorflow:Unused attribute in object (root).net.cINNs.3.t2.dense.layer-2: ['OBJECT_CONFIG_JSON']\n"
     ]
    },
    {
     "name": "stdout",
     "output_type": "stream",
     "text": [
      "WARNING:tensorflow:Unused attribute in object (root).net.cINNs.3.t2.dense.layer-3: ['OBJECT_CONFIG_JSON']\n"
     ]
    },
    {
     "name": "stderr",
     "output_type": "stream",
     "text": [
      "WARNING:tensorflow:Unused attribute in object (root).net.cINNs.3.t2.dense.layer-3: ['OBJECT_CONFIG_JSON']\n"
     ]
    },
    {
     "name": "stdout",
     "output_type": "stream",
     "text": [
      "WARNING:tensorflow:Unused attribute in object (root).net.summary_net.equiv.layer-0.module.layer-0: ['OBJECT_CONFIG_JSON']\n"
     ]
    },
    {
     "name": "stderr",
     "output_type": "stream",
     "text": [
      "WARNING:tensorflow:Unused attribute in object (root).net.summary_net.equiv.layer-0.module.layer-0: ['OBJECT_CONFIG_JSON']\n"
     ]
    },
    {
     "name": "stdout",
     "output_type": "stream",
     "text": [
      "WARNING:tensorflow:Unused attribute in object (root).net.summary_net.equiv.layer-0.module.layer-1: ['OBJECT_CONFIG_JSON']\n"
     ]
    },
    {
     "name": "stderr",
     "output_type": "stream",
     "text": [
      "WARNING:tensorflow:Unused attribute in object (root).net.summary_net.equiv.layer-0.module.layer-1: ['OBJECT_CONFIG_JSON']\n"
     ]
    },
    {
     "name": "stdout",
     "output_type": "stream",
     "text": [
      "WARNING:tensorflow:Unused attribute in object (root).net.summary_net.equiv.layer-0.module.layer-2: ['OBJECT_CONFIG_JSON']\n"
     ]
    },
    {
     "name": "stderr",
     "output_type": "stream",
     "text": [
      "WARNING:tensorflow:Unused attribute in object (root).net.summary_net.equiv.layer-0.module.layer-2: ['OBJECT_CONFIG_JSON']\n"
     ]
    },
    {
     "name": "stdout",
     "output_type": "stream",
     "text": [
      "WARNING:tensorflow:Unused attribute in object (root).net.summary_net.equiv.layer-0.invariant_module.module: ['OBJECT_CONFIG_JSON']\n"
     ]
    },
    {
     "name": "stderr",
     "output_type": "stream",
     "text": [
      "WARNING:tensorflow:Unused attribute in object (root).net.summary_net.equiv.layer-0.invariant_module.module: ['OBJECT_CONFIG_JSON']\n"
     ]
    },
    {
     "name": "stdout",
     "output_type": "stream",
     "text": [
      "WARNING:tensorflow:Unused attribute in object (root).net.summary_net.equiv.layer-0.invariant_module.post_pooling_dense: ['OBJECT_CONFIG_JSON']\n"
     ]
    },
    {
     "name": "stderr",
     "output_type": "stream",
     "text": [
      "WARNING:tensorflow:Unused attribute in object (root).net.summary_net.equiv.layer-0.invariant_module.post_pooling_dense: ['OBJECT_CONFIG_JSON']\n"
     ]
    },
    {
     "name": "stdout",
     "output_type": "stream",
     "text": [
      "WARNING:tensorflow:Unused attribute in object (root).net.summary_net.equiv.layer-1.module.layer-0: ['OBJECT_CONFIG_JSON']\n"
     ]
    },
    {
     "name": "stderr",
     "output_type": "stream",
     "text": [
      "WARNING:tensorflow:Unused attribute in object (root).net.summary_net.equiv.layer-1.module.layer-0: ['OBJECT_CONFIG_JSON']\n"
     ]
    },
    {
     "name": "stdout",
     "output_type": "stream",
     "text": [
      "WARNING:tensorflow:Unused attribute in object (root).net.summary_net.equiv.layer-1.module.layer-1: ['OBJECT_CONFIG_JSON']\n"
     ]
    },
    {
     "name": "stderr",
     "output_type": "stream",
     "text": [
      "WARNING:tensorflow:Unused attribute in object (root).net.summary_net.equiv.layer-1.module.layer-1: ['OBJECT_CONFIG_JSON']\n"
     ]
    },
    {
     "name": "stdout",
     "output_type": "stream",
     "text": [
      "WARNING:tensorflow:Unused attribute in object (root).net.summary_net.equiv.layer-1.module.layer-2: ['OBJECT_CONFIG_JSON']\n"
     ]
    },
    {
     "name": "stderr",
     "output_type": "stream",
     "text": [
      "WARNING:tensorflow:Unused attribute in object (root).net.summary_net.equiv.layer-1.module.layer-2: ['OBJECT_CONFIG_JSON']\n"
     ]
    },
    {
     "name": "stdout",
     "output_type": "stream",
     "text": [
      "WARNING:tensorflow:Unused attribute in object (root).net.summary_net.equiv.layer-1.invariant_module.module: ['OBJECT_CONFIG_JSON']\n"
     ]
    },
    {
     "name": "stderr",
     "output_type": "stream",
     "text": [
      "WARNING:tensorflow:Unused attribute in object (root).net.summary_net.equiv.layer-1.invariant_module.module: ['OBJECT_CONFIG_JSON']\n"
     ]
    },
    {
     "name": "stdout",
     "output_type": "stream",
     "text": [
      "WARNING:tensorflow:Unused attribute in object (root).net.summary_net.equiv.layer-1.invariant_module.post_pooling_dense: ['OBJECT_CONFIG_JSON']\n"
     ]
    },
    {
     "name": "stderr",
     "output_type": "stream",
     "text": [
      "WARNING:tensorflow:Unused attribute in object (root).net.summary_net.equiv.layer-1.invariant_module.post_pooling_dense: ['OBJECT_CONFIG_JSON']\n"
     ]
    },
    {
     "name": "stdout",
     "output_type": "stream",
     "text": [
      "WARNING:tensorflow:Unused attribute in object (root).net.summary_net.equiv.layer-0.invariant_module.module.layer-0: ['OBJECT_CONFIG_JSON']\n"
     ]
    },
    {
     "name": "stderr",
     "output_type": "stream",
     "text": [
      "WARNING:tensorflow:Unused attribute in object (root).net.summary_net.equiv.layer-0.invariant_module.module.layer-0: ['OBJECT_CONFIG_JSON']\n"
     ]
    },
    {
     "name": "stdout",
     "output_type": "stream",
     "text": [
      "WARNING:tensorflow:Unused attribute in object (root).net.summary_net.equiv.layer-0.invariant_module.module.layer-1: ['OBJECT_CONFIG_JSON']\n"
     ]
    },
    {
     "name": "stderr",
     "output_type": "stream",
     "text": [
      "WARNING:tensorflow:Unused attribute in object (root).net.summary_net.equiv.layer-0.invariant_module.module.layer-1: ['OBJECT_CONFIG_JSON']\n"
     ]
    },
    {
     "name": "stdout",
     "output_type": "stream",
     "text": [
      "WARNING:tensorflow:Unused attribute in object (root).net.summary_net.equiv.layer-0.invariant_module.module.layer-2: ['OBJECT_CONFIG_JSON']\n"
     ]
    },
    {
     "name": "stderr",
     "output_type": "stream",
     "text": [
      "WARNING:tensorflow:Unused attribute in object (root).net.summary_net.equiv.layer-0.invariant_module.module.layer-2: ['OBJECT_CONFIG_JSON']\n"
     ]
    },
    {
     "name": "stdout",
     "output_type": "stream",
     "text": [
      "WARNING:tensorflow:Unused attribute in object (root).net.summary_net.equiv.layer-0.invariant_module.post_pooling_dense.layer-0: ['OBJECT_CONFIG_JSON']\n"
     ]
    },
    {
     "name": "stderr",
     "output_type": "stream",
     "text": [
      "WARNING:tensorflow:Unused attribute in object (root).net.summary_net.equiv.layer-0.invariant_module.post_pooling_dense.layer-0: ['OBJECT_CONFIG_JSON']\n"
     ]
    },
    {
     "name": "stdout",
     "output_type": "stream",
     "text": [
      "WARNING:tensorflow:Unused attribute in object (root).net.summary_net.equiv.layer-0.invariant_module.post_pooling_dense.layer-1: ['OBJECT_CONFIG_JSON']\n"
     ]
    },
    {
     "name": "stderr",
     "output_type": "stream",
     "text": [
      "WARNING:tensorflow:Unused attribute in object (root).net.summary_net.equiv.layer-0.invariant_module.post_pooling_dense.layer-1: ['OBJECT_CONFIG_JSON']\n"
     ]
    },
    {
     "name": "stdout",
     "output_type": "stream",
     "text": [
      "WARNING:tensorflow:Unused attribute in object (root).net.summary_net.equiv.layer-0.invariant_module.post_pooling_dense.layer-2: ['OBJECT_CONFIG_JSON']\n"
     ]
    },
    {
     "name": "stderr",
     "output_type": "stream",
     "text": [
      "WARNING:tensorflow:Unused attribute in object (root).net.summary_net.equiv.layer-0.invariant_module.post_pooling_dense.layer-2: ['OBJECT_CONFIG_JSON']\n"
     ]
    },
    {
     "name": "stdout",
     "output_type": "stream",
     "text": [
      "WARNING:tensorflow:Unused attribute in object (root).net.summary_net.equiv.layer-1.invariant_module.module.layer-0: ['OBJECT_CONFIG_JSON']\n"
     ]
    },
    {
     "name": "stderr",
     "output_type": "stream",
     "text": [
      "WARNING:tensorflow:Unused attribute in object (root).net.summary_net.equiv.layer-1.invariant_module.module.layer-0: ['OBJECT_CONFIG_JSON']\n"
     ]
    },
    {
     "name": "stdout",
     "output_type": "stream",
     "text": [
      "WARNING:tensorflow:Unused attribute in object (root).net.summary_net.equiv.layer-1.invariant_module.module.layer-1: ['OBJECT_CONFIG_JSON']\n"
     ]
    },
    {
     "name": "stderr",
     "output_type": "stream",
     "text": [
      "WARNING:tensorflow:Unused attribute in object (root).net.summary_net.equiv.layer-1.invariant_module.module.layer-1: ['OBJECT_CONFIG_JSON']\n"
     ]
    },
    {
     "name": "stdout",
     "output_type": "stream",
     "text": [
      "WARNING:tensorflow:Unused attribute in object (root).net.summary_net.equiv.layer-1.invariant_module.module.layer-2: ['OBJECT_CONFIG_JSON']\n"
     ]
    },
    {
     "name": "stderr",
     "output_type": "stream",
     "text": [
      "WARNING:tensorflow:Unused attribute in object (root).net.summary_net.equiv.layer-1.invariant_module.module.layer-2: ['OBJECT_CONFIG_JSON']\n"
     ]
    },
    {
     "name": "stdout",
     "output_type": "stream",
     "text": [
      "WARNING:tensorflow:Unused attribute in object (root).net.summary_net.equiv.layer-1.invariant_module.post_pooling_dense.layer-0: ['OBJECT_CONFIG_JSON']\n"
     ]
    },
    {
     "name": "stderr",
     "output_type": "stream",
     "text": [
      "WARNING:tensorflow:Unused attribute in object (root).net.summary_net.equiv.layer-1.invariant_module.post_pooling_dense.layer-0: ['OBJECT_CONFIG_JSON']\n"
     ]
    },
    {
     "name": "stdout",
     "output_type": "stream",
     "text": [
      "WARNING:tensorflow:Unused attribute in object (root).net.summary_net.equiv.layer-1.invariant_module.post_pooling_dense.layer-1: ['OBJECT_CONFIG_JSON']\n"
     ]
    },
    {
     "name": "stderr",
     "output_type": "stream",
     "text": [
      "WARNING:tensorflow:Unused attribute in object (root).net.summary_net.equiv.layer-1.invariant_module.post_pooling_dense.layer-1: ['OBJECT_CONFIG_JSON']\n"
     ]
    },
    {
     "name": "stdout",
     "output_type": "stream",
     "text": [
      "WARNING:tensorflow:Unused attribute in object (root).net.summary_net.equiv.layer-1.invariant_module.post_pooling_dense.layer-2: ['OBJECT_CONFIG_JSON']\n"
     ]
    },
    {
     "name": "stderr",
     "output_type": "stream",
     "text": [
      "WARNING:tensorflow:Unused attribute in object (root).net.summary_net.equiv.layer-1.invariant_module.post_pooling_dense.layer-2: ['OBJECT_CONFIG_JSON']\n"
     ]
    },
    {
     "name": "stdout",
     "output_type": "stream",
     "text": [
      "WARNING:tensorflow:A checkpoint was restored (e.g. tf.train.Checkpoint.restore or tf.keras.Model.load_weights) but not all checkpointed values were used. See above for specific issues. Use expect_partial() on the load status object, e.g. tf.train.Checkpoint.restore(...).expect_partial(), to silence these warnings, or use assert_consumed() to make the check explicit. See https://www.tensorflow.org/alpha/guide/checkpoints#loading_mechanics for details.\n"
     ]
    },
    {
     "name": "stderr",
     "output_type": "stream",
     "text": [
      "WARNING:tensorflow:A checkpoint was restored (e.g. tf.train.Checkpoint.restore or tf.keras.Model.load_weights) but not all checkpointed values were used. See above for specific issues. Use expect_partial() on the load status object, e.g. tf.train.Checkpoint.restore(...).expect_partial(), to silence these warnings, or use assert_consumed() to make the check explicit. See https://www.tensorflow.org/alpha/guide/checkpoints#loading_mechanics for details.\n"
     ]
    },
    {
     "name": "stdout",
     "output_type": "stream",
     "text": [
      "Restored from C:/Users/User1/Documents/GitHub/DataSizeMatters/iat_bayesflow\\ckpt-final\n"
     ]
    }
   ],
   "source": [
    "checkpoint = tf.train.Checkpoint(optimizer=optimizer, net=model)\n",
    "manager = tf.train.CheckpointManager(checkpoint, 'C:/Users/User1/Documents/GitHub/DataSizeMatters/iat_bayesflow', max_to_keep=5)\n",
    "checkpoint.restore(manager.latest_checkpoint)\n",
    "if manager.latest_checkpoint:\n",
    "    print(\"Restored from {}\".format(manager.latest_checkpoint))\n",
    "else:\n",
    "    print(\"Initializing from scratch.\")"
   ]
  },
  {
   "cell_type": "markdown",
   "metadata": {},
   "source": [
    "# Inference on all real data"
   ]
  },
  {
   "cell_type": "code",
   "execution_count": 53,
   "metadata": {},
   "outputs": [],
   "source": [
    "def read_iat_rt_file(file_to_read, black_not_african):\n",
    "    \"\"\"\n",
    "    Reads and preprocesses a single IAT file.\n",
    "    \"\"\"\n",
    "    \n",
    "    if black_not_african:\n",
    "        pairs_to_retain = ['Black people/Bad,White people/Good', \n",
    "                            'White people/Bad,Black people/Good', \n",
    "                            'White people/Good,Black people/Bad', \n",
    "                            'Black people/Good,White people/Bad']\n",
    "    else:\n",
    "        pairs_to_retain =['African Americans/Bad,European Americans/Good', \n",
    "                            'European Americans/Bad,African Americans/Good', \n",
    "                            'European Americans/Good,African Americans/Bad', \n",
    "                            'African Americans/Good,European Americans/Bad']\n",
    "\n",
    "\n",
    "    # We only need certain columsn from the data, so we can indicate pandas to only read\n",
    "    # a subset of them and save memory. The problem is, when the header is read, \n",
    "    # there are whitespaces in the data, so we shall assume\n",
    "    # that all relevant columns have the same order in all datafiles.\n",
    "    cols_to_use_str = ['block_number', 'block_pairing_definition', 'trial_latency', 'trial_error', 'session_id']\n",
    "    cols_to_use_idx = [0, 3, 10, 11, 12]\n",
    "    valid_values_error = [0, 1, '1', '0'] # Use for some datasets containing invalid values\n",
    "    \n",
    "    df = pd.read_csv(PATH + file_to_read, delimiter='\\t', usecols=cols_to_use_idx)\n",
    "\n",
    "    # Fix data handling \n",
    "    # There are whitespaces in the columns, to we need to get rid of them\n",
    "    df.columns = [c.strip() for c in df.columns]\n",
    "    assert all([c1 == c2 for c1, c2 in zip(df.columns, cols_to_use_str)]), 'Expected column order does not match!'\n",
    " \n",
    "    # Retain only relevant pairs\n",
    "    df = df[df['block_pairing_definition'].isin(pairs_to_retain)]\n",
    "    print('Initial shape:', len(df.groupby('session_id')))\n",
    "\n",
    "    # Remove ids with no age        \n",
    "    df = df[df['session_id'].isin(outcomes['session_id'])]\n",
    "    print('After removing no age IDs:', len(df.groupby('session_id')))\n",
    "   \n",
    "    # Remove invalid ids\n",
    "    df = df[df['trial_error'].isin(valid_values_error)]\n",
    "    print('After removing invalid IDs:', len(df.groupby('session_id')))\n",
    "\n",
    "    \n",
    "    # Ensure correct types\n",
    "    df = df.astype({\"block_number\": int, \n",
    "                    \"block_pairing_definition\": str,\n",
    "                    \"trial_latency\": int,\n",
    "                    \"trial_error\": int})\n",
    "\n",
    "      \n",
    "    # Remove sessions with 0 latency\n",
    "    zero_latency_id = df[df['trial_latency']==0]['session_id'].to_list()\n",
    "    df = df[~df['session_id'].isin(zero_latency_id)]\n",
    "    print('After excluding zero latency IDs:', len(df.groupby('session_id')))\n",
    "    \n",
    "    # Remove sessions with not exactly 120 trials\n",
    "    not120trials_id = df.groupby('session_id').size()\n",
    "    not120trials_id = not120trials_id[not120trials_id != 120].index.to_list()\n",
    "    df = df[~df['session_id'].isin(not120trials_id)]\n",
    "    print('After excluding less than 120 trials IDs:', len(df.groupby('session_id')))\n",
    "    \n",
    "    # Remove sessions with >50% errors\n",
    "    fiftypercent_errors_id = df.groupby('session_id').mean()\n",
    "    fiftypercent_errors_id = fiftypercent_errors_id[fiftypercent_errors_id['trial_error'] > 0.5].index.to_list()\n",
    "    df = df[~df['session_id'].isin(fiftypercent_errors_id)]\n",
    "    print('After excluding more than 50% error IDs:', len(df.groupby('session_id')))\n",
    "\n",
    "    # Remove sessions with 0 errors\n",
    "    zero_errors_id = df.groupby('session_id').sum()\n",
    "    zero_errors_id = zero_errors_id[zero_errors_id['trial_error'] == 0].index.to_list()\n",
    "    df = df[~df['session_id'].isin(zero_errors_id)]\n",
    "    print('After excluding zero error IDs:', len(df.groupby('session_id')))\n",
    "\n",
    "    # Convert RTs in ms\n",
    "    df.loc[:, 'trial_latency'] = df['trial_latency'] / 1000\n",
    "\n",
    "    # Code compatible vs incompatible\n",
    "    # changes for different types of stimuli! (black/white vs african american/european american)\n",
    "    if black_not_african:\n",
    "        df['trial_compatible'] = np.where((df['block_pairing_definition'] == \"Black people/Bad,White people/Good\") | \n",
    "                                      (df['block_pairing_definition'] == 'White people/Good,Black people/Bad'), 1, 0)\n",
    "    else:\n",
    "        df['trial_compatible'] = np.where((df['block_pairing_definition'] == \"African Americans/Bad,European Americans/Good\") | \n",
    "                                      (df['block_pairing_definition'] == 'European Americans/Good,African Americans/Bad'), 1, 0)\n",
    "\n",
    "    \n",
    "    # Sort dataframe according to session id\n",
    "    df = df.sort_values('session_id')\n",
    "    \n",
    "    # Convert rt dataset to dictionary (session_id - np.array of rt/errors/comopatible)\n",
    "    df_rt_dict = df.groupby('session_id')['trial_latency'].apply(np.array).to_dict()\n",
    "    df_err_dict = df.groupby('session_id')['trial_error'].apply(np.array).to_dict()\n",
    "    df_comp_dict = df.groupby('session_id')['trial_compatible'].apply(np.array).to_dict()\n",
    "    df_block_dict = df.groupby('session_id')['block_number'].apply(np.array).to_dict()\n",
    "    \n",
    "    rts_data = {}\n",
    "    for k1, k2, k3, k4 in zip(df_rt_dict, df_err_dict, df_comp_dict, df_block_dict):\n",
    "        assert k1 == k2 == k3 == k4, 'Key mismatch within the same dataset, something went wrong!'\n",
    "        rts_data[k1] = np.c_[df_rt_dict[k1], df_err_dict[k1], df_comp_dict[k1], df_block_dict[k1]]\n",
    "    return rts_data"
   ]
  },
  {
   "cell_type": "code",
   "execution_count": 54,
   "metadata": {},
   "outputs": [],
   "source": [
    "def prepare_data(dataset_name, black_not_african):\n",
    "    \"\"\"\n",
    "    Preprocesses a single IAT file and combines with outcomes.\n",
    "    \"\"\"    \n",
    "    # Prepare a list for current chunk data/outcomes\n",
    "    # Since we don't know how many will survive the next step\n",
    "    # we initialize lists which we late convert to np.arrays\n",
    "\n",
    "    X_arr = []\n",
    "    y_arr = []\n",
    "    \n",
    "    # Read in file\n",
    "    data_dict = read_iat_rt_file(dataset_name, black_not_african)\n",
    "    print('Successfully read datafile', dataset_name, '.')\n",
    "    print('Converting to X and y arrays...')\n",
    "\n",
    "    # Loop through sessions and get those RT arrays for which we have outcomes\n",
    "    for key in data_dict.keys():\n",
    "        outcome = outcomes_dict.get(key)\n",
    "        \n",
    "        # Add only if outcome for the dataset is present\n",
    "        if outcome is not None:\n",
    "            \n",
    "            # Add only if 120 trials and 2 outcomes present\n",
    "            if data_dict[key].shape == (120, 4) and outcomes_dict[key].shape == (2,):\n",
    "                X_arr.append(data_dict[key])\n",
    "                y_arr.append(outcomes_dict[key])\n",
    "            \n",
    "    # X becomes a 3D array (N_datasets x 120 x 4)\n",
    "    # y becomes a 2D array (N_datasets x 2)\n",
    "    X_arr = np.stack(X_arr)\n",
    "    y_arr = np.stack(y_arr)\n",
    "\n",
    "    print('Final shape of RTs chunk (after once more excluding cases w/ missing age or trials): ', X_arr.shape)\n",
    "    print('Final shape of outcomes chunk: ', y_arr.shape)\n",
    "    \n",
    "    return X_arr, y_arr\n"
   ]
  },
  {
   "cell_type": "code",
   "execution_count": 55,
   "metadata": {},
   "outputs": [],
   "source": [
    "def data_cleaning_300 (X_test, y_test):\n",
    "    \"\"\"\n",
    "    Get data in correct format and remove cases with more than 12 trials < 300 ms\n",
    "    \"\"\"        \n",
    "    # Get X_test into the correct format:\n",
    "    rts = np.where(X_test[:, :, 1], -X_test[:, :, 0], X_test[:, :, 0])\n",
    "    comps = X_test[:, :, 2]\n",
    "    X_test = np.stack((rts, comps), axis=2)\n",
    "\n",
    "    # Exclusion criterion (< 0.3)\n",
    "    idx_300 = (np.abs(X_test[:, :, 0]) < 0.3).sum(axis=1) <= 12\n",
    "    X_test = X_test[idx_300, :, :]\n",
    "    print('IDs with less than 12 trials >300 ms:', X_test.shape)\n",
    "\n",
    "    # Keep only corresponding y\n",
    "    y_test = y_test[idx_300, :]\n",
    "    y_test = np.int64(y_test)\n",
    "    \n",
    "    # Set trials with latency <300 ms or >10 seconds to 0\n",
    "    X_test[:,:,0][np.abs(X_test[:,:,0]) < .3] = 0\n",
    "    X_test[:,:,0][np.abs(X_test[:,:,0]) > 10] = 0\n",
    "    X_test = np.float32(X_test)\n",
    "\n",
    "    return X_test, y_test\n"
   ]
  },
  {
   "cell_type": "code",
   "execution_count": 56,
   "metadata": {},
   "outputs": [],
   "source": [
    "def compute_summaries(samples_dm):\n",
    "    \"\"\"\n",
    "    Compute summary statistics and correlations\n",
    "    \"\"\"          \n",
    "    param_means = samples_dm.mean(axis=0)\n",
    "    param_medians = np.median(samples_dm,axis=0)\n",
    "    param_stds = np.std(samples_dm,axis=0)\n",
    "    param_q025 = np.quantile(samples_dm, .025, axis=0)  \n",
    "    param_q975 = np.quantile(samples_dm, .975, axis=0)  \n",
    "    \n",
    "    corr = tfp.stats.correlation(samples_dm, sample_axis=0, event_axis=2).numpy()\n",
    "    corr_array = np.concatenate((\n",
    "        corr[:,0,1:6],corr[:,1,2:6], corr[:,2,3:6], corr[:,3,4:6], corr[:,4,5:6]), axis=1)\n",
    "    \n",
    "    estimates = np.concatenate((param_means, param_medians, param_stds,\n",
    "                                param_q025, param_q975, corr_array), axis=1) \n",
    "    \n",
    "    return estimates"
   ]
  },
  {
   "cell_type": "code",
   "execution_count": 57,
   "metadata": {},
   "outputs": [],
   "source": [
    "def post_processing(X_test, estimates, param_means, y_test):\n",
    "    \"\"\"\n",
    "    Delete datasets with out-of-prior parameter estimates (from data and estimates)\n",
    "    \"\"\"\n",
    "    good_cases = ((param_means[:,0]>.1) & (param_means[:,0]<7.) & #v1 between .1 and 7\n",
    "                  (param_means[:,1]>.1) & (param_means[:,1]<7.) & #v2 between .1 and 7\n",
    "                  (param_means[:,2]>.1) & (param_means[:,2]<4.) & #a1 between .1 and 4\n",
    "                  (param_means[:,3]>.1) & (param_means[:,3]<4.) & #v2 between .1 and 4\n",
    "                  (param_means[:,4]>.1) & (param_means[:,4]<3.) & #tplus between .1 and 3\n",
    "                  (param_means[:,5]>.1) & (param_means[:,5]<7.))  #tminus between .1 and 7\n",
    "\n",
    "    print(\"In prior-cases:\", good_cases.shape)\n",
    "    estimates_clean = estimates[good_cases,:]\n",
    "    data_chunk_clean = X_test[good_cases,:,:]\n",
    "    y_clean = y_test[good_cases,:]\n",
    "    \n",
    "    return data_chunk_clean, estimates_clean, y_clean\n"
   ]
  },
  {
   "cell_type": "code",
   "execution_count": 64,
   "metadata": {},
   "outputs": [],
   "source": [
    "#Settings\n",
    "# Path to data\n",
    "PATH = 'D:/iat/data/'\n",
    "# Path to outcomes\n",
    "PATH_OUTCOME = 'D:/iat/outcomes/'\n",
    "\n",
    "# where to save files\n",
    "PATH_TO_SAVE = 'D:/iat/pickle/'\n",
    "\n",
    "# Choose type of stimulus to process (Black/African American)\n",
    "black_not_african = True"
   ]
  },
  {
   "cell_type": "code",
   "execution_count": 59,
   "metadata": {},
   "outputs": [],
   "source": [
    "# Read in outcomes, drop missing, sort\n",
    "outcomes = pd.read_csv(PATH_OUTCOME + 'outcomes_with_id_161718.csv', header=0, na_values='NA')\n",
    "outcomes = outcomes.dropna()\n",
    "outcomes = outcomes.sort_values('session_id')\n",
    "\n",
    "# Convert outcomes to a dictionary for instant lookup; use only cases containing age and session id\n",
    "outcomes_id2_dict = outcomes.groupby('session_id')['id2'].apply(int).to_dict()\n",
    "outcomes_age_dict = outcomes.groupby('session_id')['age'].apply(int).to_dict()\n",
    "\n",
    "\n",
    "outcomes_dict = {}\n",
    "for k1, k2 in zip(outcomes_id2_dict, outcomes_age_dict):\n",
    "    assert k1 == k2 \n",
    "    outcomes_dict[k1] = np.array([outcomes_id2_dict[k1], \n",
    "                                  outcomes_age_dict[k2]])\n",
    "    \n",
    "# Note, that outcomes dict will be a global dictionary"
   ]
  },
  {
   "cell_type": "code",
   "execution_count": 65,
   "metadata": {},
   "outputs": [
    {
     "name": "stdout",
     "output_type": "stream",
     "text": [
      "Initial shape: 25918\n",
      "Removing no age ids: 22825\n"
     ]
    },
    {
     "name": "stderr",
     "output_type": "stream",
     "text": [
      "C:\\Users\\User1\\miniconda3\\lib\\site-packages\\numpy\\lib\\arraysetops.py:580: FutureWarning: elementwise comparison failed; returning scalar instead, but in the future will perform elementwise comparison\n",
      "  mask |= (ar1 == a)\n"
     ]
    },
    {
     "name": "stdout",
     "output_type": "stream",
     "text": [
      "Removing invalid ids: 22825\n",
      "After excluding zero latency IDs: 22688\n",
      "After excluding less than 120 trials IDs: 22184\n",
      "After excluding more than 50% error IDs: 22165\n",
      "After excluding zero error IDs: 20644\n",
      "Successfully read datafile 2016iat.txt .\n",
      "Converting to X and y arrays...\n",
      "Final shape of RTs chunk (after once more excluding cases w/ missing age or trials):  (20644, 120, 4)\n",
      "Final shape of outcomes chunk:  (20644, 2)\n",
      "IDs with less than 12 trials >300 ms: (20469, 120, 2)\n",
      "2016iat.txt done\n",
      "Initial shape: 25920\n",
      "Removing no age ids: 22590\n"
     ]
    },
    {
     "name": "stderr",
     "output_type": "stream",
     "text": [
      "C:\\Users\\User1\\miniconda3\\lib\\site-packages\\numpy\\lib\\arraysetops.py:580: FutureWarning: elementwise comparison failed; returning scalar instead, but in the future will perform elementwise comparison\n",
      "  mask |= (ar1 == a)\n"
     ]
    },
    {
     "name": "stdout",
     "output_type": "stream",
     "text": [
      "Removing invalid ids: 22590\n",
      "After excluding zero latency IDs: 22444\n",
      "After excluding less than 120 trials IDs: 22036\n",
      "After excluding more than 50% error IDs: 21999\n",
      "After excluding zero error IDs: 20751\n",
      "Successfully read datafile 2016iat2.txt .\n",
      "Converting to X and y arrays...\n",
      "Final shape of RTs chunk (after once more excluding cases w/ missing age or trials):  (20751, 120, 4)\n",
      "Final shape of outcomes chunk:  (20751, 2)\n",
      "IDs with less than 12 trials >300 ms: (20495, 120, 2)\n",
      "2016iat2.txt done\n",
      "Initial shape: 26011\n",
      "Removing no age ids: 22727\n"
     ]
    },
    {
     "name": "stderr",
     "output_type": "stream",
     "text": [
      "C:\\Users\\User1\\miniconda3\\lib\\site-packages\\numpy\\lib\\arraysetops.py:580: FutureWarning: elementwise comparison failed; returning scalar instead, but in the future will perform elementwise comparison\n",
      "  mask |= (ar1 == a)\n"
     ]
    },
    {
     "name": "stdout",
     "output_type": "stream",
     "text": [
      "Removing invalid ids: 22727\n",
      "After excluding zero latency IDs: 22583\n",
      "After excluding less than 120 trials IDs: 22183\n",
      "After excluding more than 50% error IDs: 22158\n",
      "After excluding zero error IDs: 20940\n",
      "Successfully read datafile 2016iat3.txt .\n",
      "Converting to X and y arrays...\n",
      "Final shape of RTs chunk (after once more excluding cases w/ missing age or trials):  (20940, 120, 4)\n",
      "Final shape of outcomes chunk:  (20940, 2)\n",
      "IDs with less than 12 trials >300 ms: (20693, 120, 2)\n",
      "2016iat3.txt done\n",
      "Initial shape: 25946\n",
      "Removing no age ids: 22218\n"
     ]
    },
    {
     "name": "stderr",
     "output_type": "stream",
     "text": [
      "C:\\Users\\User1\\miniconda3\\lib\\site-packages\\numpy\\lib\\arraysetops.py:580: FutureWarning: elementwise comparison failed; returning scalar instead, but in the future will perform elementwise comparison\n",
      "  mask |= (ar1 == a)\n"
     ]
    },
    {
     "name": "stdout",
     "output_type": "stream",
     "text": [
      "Removing invalid ids: 22218\n",
      "After excluding zero latency IDs: 22090\n",
      "After excluding less than 120 trials IDs: 21727\n",
      "After excluding more than 50% error IDs: 21709\n",
      "After excluding zero error IDs: 20430\n",
      "Successfully read datafile 2016iat4.txt .\n",
      "Converting to X and y arrays...\n",
      "Final shape of RTs chunk (after once more excluding cases w/ missing age or trials):  (20430, 120, 4)\n",
      "Final shape of outcomes chunk:  (20430, 2)\n",
      "IDs with less than 12 trials >300 ms: (20227, 120, 2)\n",
      "2016iat4.txt done\n",
      "Initial shape: 2498\n",
      "Removing no age ids: 2146\n",
      "Removing invalid ids: 2146\n",
      "After excluding zero latency IDs: 2140\n",
      "After excluding less than 120 trials IDs: 2090\n",
      "After excluding more than 50% error IDs: 2089\n",
      "After excluding zero error IDs: 1933\n",
      "Successfully read datafile 2016iat5.txt .\n",
      "Converting to X and y arrays...\n",
      "Final shape of RTs chunk (after once more excluding cases w/ missing age or trials):  (1933, 120, 4)\n",
      "Final shape of outcomes chunk:  (1933, 2)\n",
      "IDs with less than 12 trials >300 ms: (1923, 120, 2)\n",
      "2016iat5.txt done\n",
      "Initial shape: 25895\n",
      "Removing no age ids: 22263\n"
     ]
    },
    {
     "name": "stderr",
     "output_type": "stream",
     "text": [
      "C:\\Users\\User1\\miniconda3\\lib\\site-packages\\numpy\\lib\\arraysetops.py:580: FutureWarning: elementwise comparison failed; returning scalar instead, but in the future will perform elementwise comparison\n",
      "  mask |= (ar1 == a)\n"
     ]
    },
    {
     "name": "stdout",
     "output_type": "stream",
     "text": [
      "Removing invalid ids: 22263\n",
      "After excluding zero latency IDs: 22141\n",
      "After excluding less than 120 trials IDs: 21717\n",
      "After excluding more than 50% error IDs: 21684\n",
      "After excluding zero error IDs: 20228\n",
      "Successfully read datafile 2017iat.txt .\n",
      "Converting to X and y arrays...\n",
      "Final shape of RTs chunk (after once more excluding cases w/ missing age or trials):  (20228, 120, 4)\n",
      "Final shape of outcomes chunk:  (20228, 2)\n",
      "IDs with less than 12 trials >300 ms: (20014, 120, 2)\n",
      "2017iat.txt done\n",
      "Initial shape: 26059\n",
      "Removing no age ids: 22728\n"
     ]
    },
    {
     "name": "stderr",
     "output_type": "stream",
     "text": [
      "C:\\Users\\User1\\miniconda3\\lib\\site-packages\\numpy\\lib\\arraysetops.py:580: FutureWarning: elementwise comparison failed; returning scalar instead, but in the future will perform elementwise comparison\n",
      "  mask |= (ar1 == a)\n"
     ]
    },
    {
     "name": "stdout",
     "output_type": "stream",
     "text": [
      "Removing invalid ids: 22728\n",
      "After excluding zero latency IDs: 22536\n",
      "After excluding less than 120 trials IDs: 22176\n",
      "After excluding more than 50% error IDs: 22147\n",
      "After excluding zero error IDs: 20840\n",
      "Successfully read datafile 2017iat10.txt .\n",
      "Converting to X and y arrays...\n",
      "Final shape of RTs chunk (after once more excluding cases w/ missing age or trials):  (20840, 120, 4)\n",
      "Final shape of outcomes chunk:  (20840, 2)\n",
      "IDs with less than 12 trials >300 ms: (20627, 120, 2)\n",
      "2017iat10.txt done\n",
      "Initial shape: 26049\n",
      "Removing no age ids: 22875\n"
     ]
    },
    {
     "name": "stderr",
     "output_type": "stream",
     "text": [
      "C:\\Users\\User1\\miniconda3\\lib\\site-packages\\numpy\\lib\\arraysetops.py:580: FutureWarning: elementwise comparison failed; returning scalar instead, but in the future will perform elementwise comparison\n",
      "  mask |= (ar1 == a)\n"
     ]
    },
    {
     "name": "stdout",
     "output_type": "stream",
     "text": [
      "Removing invalid ids: 22875\n",
      "After excluding zero latency IDs: 22648\n",
      "After excluding less than 120 trials IDs: 22315\n",
      "After excluding more than 50% error IDs: 22297\n",
      "After excluding zero error IDs: 20956\n",
      "Successfully read datafile 2017iat11.txt .\n",
      "Converting to X and y arrays...\n",
      "Final shape of RTs chunk (after once more excluding cases w/ missing age or trials):  (20956, 120, 4)\n",
      "Final shape of outcomes chunk:  (20956, 2)\n",
      "IDs with less than 12 trials >300 ms: (20736, 120, 2)\n",
      "2017iat11.txt done\n",
      "Initial shape: 26121\n",
      "Removing no age ids: 22639\n"
     ]
    },
    {
     "name": "stderr",
     "output_type": "stream",
     "text": [
      "C:\\Users\\User1\\miniconda3\\lib\\site-packages\\numpy\\lib\\arraysetops.py:580: FutureWarning: elementwise comparison failed; returning scalar instead, but in the future will perform elementwise comparison\n",
      "  mask |= (ar1 == a)\n"
     ]
    },
    {
     "name": "stdout",
     "output_type": "stream",
     "text": [
      "Removing invalid ids: 22639\n",
      "After excluding zero latency IDs: 22410\n",
      "After excluding less than 120 trials IDs: 22016\n",
      "After excluding more than 50% error IDs: 21992\n",
      "After excluding zero error IDs: 20767\n",
      "Successfully read datafile 2017iat12.txt .\n",
      "Converting to X and y arrays...\n",
      "Final shape of RTs chunk (after once more excluding cases w/ missing age or trials):  (20767, 120, 4)\n",
      "Final shape of outcomes chunk:  (20767, 2)\n",
      "IDs with less than 12 trials >300 ms: (20539, 120, 2)\n",
      "2017iat12.txt done\n",
      "Initial shape: 25852\n",
      "Removing no age ids: 21869\n"
     ]
    },
    {
     "name": "stderr",
     "output_type": "stream",
     "text": [
      "C:\\Users\\User1\\miniconda3\\lib\\site-packages\\numpy\\lib\\arraysetops.py:580: FutureWarning: elementwise comparison failed; returning scalar instead, but in the future will perform elementwise comparison\n",
      "  mask |= (ar1 == a)\n"
     ]
    },
    {
     "name": "stdout",
     "output_type": "stream",
     "text": [
      "Removing invalid ids: 21869\n",
      "After excluding zero latency IDs: 21658\n",
      "After excluding less than 120 trials IDs: 21299\n",
      "After excluding more than 50% error IDs: 21276\n",
      "After excluding zero error IDs: 20044\n",
      "Successfully read datafile 2017iat13.txt .\n",
      "Converting to X and y arrays...\n",
      "Final shape of RTs chunk (after once more excluding cases w/ missing age or trials):  (20044, 120, 4)\n",
      "Final shape of outcomes chunk:  (20044, 2)\n",
      "IDs with less than 12 trials >300 ms: (19819, 120, 2)\n",
      "2017iat13.txt done\n",
      "Initial shape: 1263\n",
      "Removing no age ids: 1037\n",
      "Removing invalid ids: 1037\n",
      "After excluding zero latency IDs: 1029\n",
      "After excluding less than 120 trials IDs: 1008\n",
      "After excluding more than 50% error IDs: 1006\n",
      "After excluding zero error IDs: 959\n",
      "Successfully read datafile 2017iat14.txt .\n",
      "Converting to X and y arrays...\n",
      "Final shape of RTs chunk (after once more excluding cases w/ missing age or trials):  (959, 120, 4)\n",
      "Final shape of outcomes chunk:  (959, 2)\n",
      "IDs with less than 12 trials >300 ms: (951, 120, 2)\n",
      "2017iat14.txt done\n",
      "Initial shape: 25991\n",
      "Removing no age ids: 23130\n"
     ]
    },
    {
     "name": "stderr",
     "output_type": "stream",
     "text": [
      "C:\\Users\\User1\\miniconda3\\lib\\site-packages\\numpy\\lib\\arraysetops.py:580: FutureWarning: elementwise comparison failed; returning scalar instead, but in the future will perform elementwise comparison\n",
      "  mask |= (ar1 == a)\n"
     ]
    },
    {
     "name": "stdout",
     "output_type": "stream",
     "text": [
      "Removing invalid ids: 23130\n",
      "After excluding zero latency IDs: 23024\n",
      "After excluding less than 120 trials IDs: 22657\n",
      "After excluding more than 50% error IDs: 22646\n",
      "After excluding zero error IDs: 21158\n",
      "Successfully read datafile 2017iat2.txt .\n",
      "Converting to X and y arrays...\n",
      "Final shape of RTs chunk (after once more excluding cases w/ missing age or trials):  (21158, 120, 4)\n",
      "Final shape of outcomes chunk:  (21158, 2)\n",
      "IDs with less than 12 trials >300 ms: (21025, 120, 2)\n",
      "2017iat2.txt done\n",
      "Initial shape: 25905\n",
      "Removing no age ids: 22590\n"
     ]
    },
    {
     "name": "stderr",
     "output_type": "stream",
     "text": [
      "C:\\Users\\User1\\miniconda3\\lib\\site-packages\\numpy\\lib\\arraysetops.py:580: FutureWarning: elementwise comparison failed; returning scalar instead, but in the future will perform elementwise comparison\n",
      "  mask |= (ar1 == a)\n"
     ]
    },
    {
     "name": "stdout",
     "output_type": "stream",
     "text": [
      "Removing invalid ids: 22590\n",
      "After excluding zero latency IDs: 22466\n",
      "After excluding less than 120 trials IDs: 22090\n",
      "After excluding more than 50% error IDs: 22062\n",
      "After excluding zero error IDs: 20763\n",
      "Successfully read datafile 2017iat3.txt .\n",
      "Converting to X and y arrays...\n",
      "Final shape of RTs chunk (after once more excluding cases w/ missing age or trials):  (20763, 120, 4)\n",
      "Final shape of outcomes chunk:  (20763, 2)\n",
      "IDs with less than 12 trials >300 ms: (20551, 120, 2)\n",
      "2017iat3.txt done\n",
      "Initial shape: 26014\n",
      "Removing no age ids: 22416\n"
     ]
    },
    {
     "name": "stderr",
     "output_type": "stream",
     "text": [
      "C:\\Users\\User1\\miniconda3\\lib\\site-packages\\numpy\\lib\\arraysetops.py:580: FutureWarning: elementwise comparison failed; returning scalar instead, but in the future will perform elementwise comparison\n",
      "  mask |= (ar1 == a)\n"
     ]
    },
    {
     "name": "stdout",
     "output_type": "stream",
     "text": [
      "Removing invalid ids: 22416\n",
      "After excluding zero latency IDs: 22296\n",
      "After excluding less than 120 trials IDs: 21914\n",
      "After excluding more than 50% error IDs: 21883\n",
      "After excluding zero error IDs: 20586\n",
      "Successfully read datafile 2017iat4.txt .\n",
      "Converting to X and y arrays...\n",
      "Final shape of RTs chunk (after once more excluding cases w/ missing age or trials):  (20586, 120, 4)\n",
      "Final shape of outcomes chunk:  (20586, 2)\n",
      "IDs with less than 12 trials >300 ms: (20338, 120, 2)\n",
      "2017iat4.txt done\n",
      "Initial shape: 26001\n",
      "Removing no age ids: 22455\n"
     ]
    },
    {
     "name": "stderr",
     "output_type": "stream",
     "text": [
      "C:\\Users\\User1\\miniconda3\\lib\\site-packages\\numpy\\lib\\arraysetops.py:580: FutureWarning: elementwise comparison failed; returning scalar instead, but in the future will perform elementwise comparison\n",
      "  mask |= (ar1 == a)\n"
     ]
    },
    {
     "name": "stdout",
     "output_type": "stream",
     "text": [
      "Removing invalid ids: 22455\n",
      "After excluding zero latency IDs: 22305\n",
      "After excluding less than 120 trials IDs: 21960\n",
      "After excluding more than 50% error IDs: 21931\n",
      "After excluding zero error IDs: 20743\n",
      "Successfully read datafile 2017iat5.txt .\n",
      "Converting to X and y arrays...\n",
      "Final shape of RTs chunk (after once more excluding cases w/ missing age or trials):  (20743, 120, 4)\n",
      "Final shape of outcomes chunk:  (20743, 2)\n",
      "IDs with less than 12 trials >300 ms: (20478, 120, 2)\n",
      "2017iat5.txt done\n",
      "Initial shape: 25909\n",
      "Removing no age ids: 22333\n"
     ]
    },
    {
     "name": "stderr",
     "output_type": "stream",
     "text": [
      "C:\\Users\\User1\\miniconda3\\lib\\site-packages\\numpy\\lib\\arraysetops.py:580: FutureWarning: elementwise comparison failed; returning scalar instead, but in the future will perform elementwise comparison\n",
      "  mask |= (ar1 == a)\n"
     ]
    },
    {
     "name": "stdout",
     "output_type": "stream",
     "text": [
      "Removing invalid ids: 22333\n",
      "After excluding zero latency IDs: 22201\n",
      "After excluding less than 120 trials IDs: 21781\n",
      "After excluding more than 50% error IDs: 21755\n",
      "After excluding zero error IDs: 20480\n",
      "Successfully read datafile 2017iat6.txt .\n",
      "Converting to X and y arrays...\n",
      "Final shape of RTs chunk (after once more excluding cases w/ missing age or trials):  (20480, 120, 4)\n",
      "Final shape of outcomes chunk:  (20480, 2)\n",
      "IDs with less than 12 trials >300 ms: (20234, 120, 2)\n",
      "2017iat6.txt done\n",
      "Initial shape: 25975\n",
      "Removing no age ids: 22594\n"
     ]
    },
    {
     "name": "stderr",
     "output_type": "stream",
     "text": [
      "C:\\Users\\User1\\miniconda3\\lib\\site-packages\\numpy\\lib\\arraysetops.py:580: FutureWarning: elementwise comparison failed; returning scalar instead, but in the future will perform elementwise comparison\n",
      "  mask |= (ar1 == a)\n"
     ]
    },
    {
     "name": "stdout",
     "output_type": "stream",
     "text": [
      "Removing invalid ids: 22594\n",
      "After excluding zero latency IDs: 22534\n",
      "After excluding less than 120 trials IDs: 21893\n",
      "After excluding more than 50% error IDs: 21874\n",
      "After excluding zero error IDs: 20166\n",
      "Successfully read datafile 2017iat7.txt .\n",
      "Converting to X and y arrays...\n",
      "Final shape of RTs chunk (after once more excluding cases w/ missing age or trials):  (20166, 120, 4)\n",
      "Final shape of outcomes chunk:  (20166, 2)\n",
      "IDs with less than 12 trials >300 ms: (20067, 120, 2)\n",
      "2017iat7.txt done\n",
      "Initial shape: 25977\n",
      "Removing no age ids: 22881\n"
     ]
    },
    {
     "name": "stderr",
     "output_type": "stream",
     "text": [
      "C:\\Users\\User1\\miniconda3\\lib\\site-packages\\numpy\\lib\\arraysetops.py:580: FutureWarning: elementwise comparison failed; returning scalar instead, but in the future will perform elementwise comparison\n",
      "  mask |= (ar1 == a)\n"
     ]
    },
    {
     "name": "stdout",
     "output_type": "stream",
     "text": [
      "Removing invalid ids: 22881\n",
      "After excluding zero latency IDs: 22750\n",
      "After excluding less than 120 trials IDs: 22373\n",
      "After excluding more than 50% error IDs: 22352\n",
      "After excluding zero error IDs: 20613\n",
      "Successfully read datafile 2017iat8.txt .\n",
      "Converting to X and y arrays...\n",
      "Final shape of RTs chunk (after once more excluding cases w/ missing age or trials):  (20613, 120, 4)\n",
      "Final shape of outcomes chunk:  (20613, 2)\n",
      "IDs with less than 12 trials >300 ms: (20519, 120, 2)\n",
      "2017iat8.txt done\n",
      "Initial shape: 25811\n",
      "Removing no age ids: 22281\n"
     ]
    },
    {
     "name": "stderr",
     "output_type": "stream",
     "text": [
      "C:\\Users\\User1\\miniconda3\\lib\\site-packages\\numpy\\lib\\arraysetops.py:580: FutureWarning: elementwise comparison failed; returning scalar instead, but in the future will perform elementwise comparison\n",
      "  mask |= (ar1 == a)\n"
     ]
    },
    {
     "name": "stdout",
     "output_type": "stream",
     "text": [
      "Removing invalid ids: 22281\n",
      "After excluding zero latency IDs: 22102\n",
      "After excluding less than 120 trials IDs: 21768\n",
      "After excluding more than 50% error IDs: 21749\n",
      "After excluding zero error IDs: 20401\n",
      "Successfully read datafile 2017iat9.txt .\n",
      "Converting to X and y arrays...\n",
      "Final shape of RTs chunk (after once more excluding cases w/ missing age or trials):  (20401, 120, 4)\n",
      "Final shape of outcomes chunk:  (20401, 2)\n",
      "IDs with less than 12 trials >300 ms: (20227, 120, 2)\n",
      "2017iat9.txt done\n",
      "Initial shape: 26047\n",
      "Removing no age ids: 22461\n"
     ]
    },
    {
     "name": "stderr",
     "output_type": "stream",
     "text": [
      "C:\\Users\\User1\\miniconda3\\lib\\site-packages\\numpy\\lib\\arraysetops.py:580: FutureWarning: elementwise comparison failed; returning scalar instead, but in the future will perform elementwise comparison\n",
      "  mask |= (ar1 == a)\n"
     ]
    },
    {
     "name": "stdout",
     "output_type": "stream",
     "text": [
      "Removing invalid ids: 22461\n",
      "After excluding zero latency IDs: 22236\n",
      "After excluding less than 120 trials IDs: 21893\n",
      "After excluding more than 50% error IDs: 21877\n",
      "After excluding zero error IDs: 20456\n",
      "Successfully read datafile 2018iat.txt .\n",
      "Converting to X and y arrays...\n",
      "Final shape of RTs chunk (after once more excluding cases w/ missing age or trials):  (20456, 120, 4)\n",
      "Final shape of outcomes chunk:  (20456, 2)\n",
      "IDs with less than 12 trials >300 ms: (20264, 120, 2)\n",
      "2018iat.txt done\n",
      "Initial shape: 25886\n",
      "Removing no age ids: 22494\n"
     ]
    },
    {
     "name": "stderr",
     "output_type": "stream",
     "text": [
      "C:\\Users\\User1\\miniconda3\\lib\\site-packages\\numpy\\lib\\arraysetops.py:580: FutureWarning: elementwise comparison failed; returning scalar instead, but in the future will perform elementwise comparison\n",
      "  mask |= (ar1 == a)\n"
     ]
    },
    {
     "name": "stdout",
     "output_type": "stream",
     "text": [
      "Removing invalid ids: 22494\n",
      "After excluding zero latency IDs: 22315\n",
      "After excluding less than 120 trials IDs: 21940\n",
      "After excluding more than 50% error IDs: 21914\n",
      "After excluding zero error IDs: 20527\n",
      "Successfully read datafile 2018iat10.txt .\n",
      "Converting to X and y arrays...\n",
      "Final shape of RTs chunk (after once more excluding cases w/ missing age or trials):  (20527, 120, 4)\n",
      "Final shape of outcomes chunk:  (20527, 2)\n",
      "IDs with less than 12 trials >300 ms: (20295, 120, 2)\n",
      "2018iat10.txt done\n",
      "Initial shape: 25994\n",
      "Removing no age ids: 22671\n"
     ]
    },
    {
     "name": "stderr",
     "output_type": "stream",
     "text": [
      "C:\\Users\\User1\\miniconda3\\lib\\site-packages\\numpy\\lib\\arraysetops.py:580: FutureWarning: elementwise comparison failed; returning scalar instead, but in the future will perform elementwise comparison\n",
      "  mask |= (ar1 == a)\n"
     ]
    },
    {
     "name": "stdout",
     "output_type": "stream",
     "text": [
      "Removing invalid ids: 22671\n",
      "After excluding zero latency IDs: 22478\n",
      "After excluding less than 120 trials IDs: 22192\n",
      "After excluding more than 50% error IDs: 22164\n",
      "After excluding zero error IDs: 20835\n",
      "Successfully read datafile 2018iat11.txt .\n",
      "Converting to X and y arrays...\n",
      "Final shape of RTs chunk (after once more excluding cases w/ missing age or trials):  (20835, 120, 4)\n",
      "Final shape of outcomes chunk:  (20835, 2)\n",
      "IDs with less than 12 trials >300 ms: (20633, 120, 2)\n",
      "2018iat11.txt done\n",
      "Initial shape: 26006\n",
      "Removing no age ids: 22101\n"
     ]
    },
    {
     "name": "stderr",
     "output_type": "stream",
     "text": [
      "C:\\Users\\User1\\miniconda3\\lib\\site-packages\\numpy\\lib\\arraysetops.py:580: FutureWarning: elementwise comparison failed; returning scalar instead, but in the future will perform elementwise comparison\n",
      "  mask |= (ar1 == a)\n"
     ]
    },
    {
     "name": "stdout",
     "output_type": "stream",
     "text": [
      "Removing invalid ids: 22101\n",
      "After excluding zero latency IDs: 21926\n",
      "After excluding less than 120 trials IDs: 21585\n",
      "After excluding more than 50% error IDs: 21554\n",
      "After excluding zero error IDs: 20282\n",
      "Successfully read datafile 2018iat12.txt .\n",
      "Converting to X and y arrays...\n",
      "Final shape of RTs chunk (after once more excluding cases w/ missing age or trials):  (20282, 120, 4)\n",
      "Final shape of outcomes chunk:  (20282, 2)\n",
      "IDs with less than 12 trials >300 ms: (20001, 120, 2)\n",
      "2018iat12.txt done\n",
      "Initial shape: 8139\n",
      "Removing no age ids: 6820\n",
      "Removing invalid ids: 6820\n",
      "After excluding zero latency IDs: 6769\n",
      "After excluding less than 120 trials IDs: 6648\n",
      "After excluding more than 50% error IDs: 6640\n",
      "After excluding zero error IDs: 6163\n",
      "Successfully read datafile 2018iat13.txt .\n",
      "Converting to X and y arrays...\n",
      "Final shape of RTs chunk (after once more excluding cases w/ missing age or trials):  (6163, 120, 4)\n",
      "Final shape of outcomes chunk:  (6163, 2)\n",
      "IDs with less than 12 trials >300 ms: (6088, 120, 2)\n",
      "2018iat13.txt done\n",
      "Initial shape: 25931\n",
      "Removing no age ids: 22449\n"
     ]
    },
    {
     "name": "stderr",
     "output_type": "stream",
     "text": [
      "C:\\Users\\User1\\miniconda3\\lib\\site-packages\\numpy\\lib\\arraysetops.py:580: FutureWarning: elementwise comparison failed; returning scalar instead, but in the future will perform elementwise comparison\n",
      "  mask |= (ar1 == a)\n"
     ]
    },
    {
     "name": "stdout",
     "output_type": "stream",
     "text": [
      "Removing invalid ids: 22449\n",
      "After excluding zero latency IDs: 22224\n",
      "After excluding less than 120 trials IDs: 21919\n",
      "After excluding more than 50% error IDs: 21901\n",
      "After excluding zero error IDs: 20670\n",
      "Successfully read datafile 2018iat2.txt .\n",
      "Converting to X and y arrays...\n",
      "Final shape of RTs chunk (after once more excluding cases w/ missing age or trials):  (20670, 120, 4)\n",
      "Final shape of outcomes chunk:  (20670, 2)\n",
      "IDs with less than 12 trials >300 ms: (20441, 120, 2)\n",
      "2018iat2.txt done\n",
      "Initial shape: 25660\n",
      "Removing no age ids: 21906\n"
     ]
    },
    {
     "name": "stderr",
     "output_type": "stream",
     "text": [
      "C:\\Users\\User1\\miniconda3\\lib\\site-packages\\numpy\\lib\\arraysetops.py:580: FutureWarning: elementwise comparison failed; returning scalar instead, but in the future will perform elementwise comparison\n",
      "  mask |= (ar1 == a)\n"
     ]
    },
    {
     "name": "stdout",
     "output_type": "stream",
     "text": [
      "Removing invalid ids: 21906\n",
      "After excluding zero latency IDs: 21719\n",
      "After excluding less than 120 trials IDs: 21370\n",
      "After excluding more than 50% error IDs: 21346\n",
      "After excluding zero error IDs: 20039\n",
      "Successfully read datafile 2018iat3.txt .\n",
      "Converting to X and y arrays...\n",
      "Final shape of RTs chunk (after once more excluding cases w/ missing age or trials):  (20039, 120, 4)\n",
      "Final shape of outcomes chunk:  (20039, 2)\n",
      "IDs with less than 12 trials >300 ms: (19820, 120, 2)\n",
      "2018iat3.txt done\n",
      "Initial shape: 25748\n",
      "Removing no age ids: 21876\n"
     ]
    },
    {
     "name": "stderr",
     "output_type": "stream",
     "text": [
      "C:\\Users\\User1\\miniconda3\\lib\\site-packages\\numpy\\lib\\arraysetops.py:580: FutureWarning: elementwise comparison failed; returning scalar instead, but in the future will perform elementwise comparison\n",
      "  mask |= (ar1 == a)\n"
     ]
    },
    {
     "name": "stdout",
     "output_type": "stream",
     "text": [
      "Removing invalid ids: 21876\n",
      "After excluding zero latency IDs: 21674\n",
      "After excluding less than 120 trials IDs: 21319\n",
      "After excluding more than 50% error IDs: 21298\n",
      "After excluding zero error IDs: 20107\n",
      "Successfully read datafile 2018iat4.txt .\n",
      "Converting to X and y arrays...\n",
      "Final shape of RTs chunk (after once more excluding cases w/ missing age or trials):  (20107, 120, 4)\n",
      "Final shape of outcomes chunk:  (20107, 2)\n",
      "IDs with less than 12 trials >300 ms: (19896, 120, 2)\n",
      "2018iat4.txt done\n",
      "Initial shape: 26048\n",
      "Removing no age ids: 21949\n"
     ]
    },
    {
     "name": "stderr",
     "output_type": "stream",
     "text": [
      "C:\\Users\\User1\\miniconda3\\lib\\site-packages\\numpy\\lib\\arraysetops.py:580: FutureWarning: elementwise comparison failed; returning scalar instead, but in the future will perform elementwise comparison\n",
      "  mask |= (ar1 == a)\n"
     ]
    },
    {
     "name": "stdout",
     "output_type": "stream",
     "text": [
      "Removing invalid ids: 21949\n",
      "After excluding zero latency IDs: 21761\n",
      "After excluding less than 120 trials IDs: 21361\n",
      "After excluding more than 50% error IDs: 21336\n",
      "After excluding zero error IDs: 20060\n",
      "Successfully read datafile 2018iat5.txt .\n",
      "Converting to X and y arrays...\n",
      "Final shape of RTs chunk (after once more excluding cases w/ missing age or trials):  (20060, 120, 4)\n",
      "Final shape of outcomes chunk:  (20060, 2)\n",
      "IDs with less than 12 trials >300 ms: (19840, 120, 2)\n",
      "2018iat5.txt done\n",
      "Initial shape: 25995\n",
      "Removing no age ids: 21813\n"
     ]
    },
    {
     "name": "stderr",
     "output_type": "stream",
     "text": [
      "C:\\Users\\User1\\miniconda3\\lib\\site-packages\\numpy\\lib\\arraysetops.py:580: FutureWarning: elementwise comparison failed; returning scalar instead, but in the future will perform elementwise comparison\n",
      "  mask |= (ar1 == a)\n"
     ]
    },
    {
     "name": "stdout",
     "output_type": "stream",
     "text": [
      "Removing invalid ids: 21813\n",
      "After excluding zero latency IDs: 21650\n",
      "After excluding less than 120 trials IDs: 21264\n",
      "After excluding more than 50% error IDs: 21243\n",
      "After excluding zero error IDs: 19708\n",
      "Successfully read datafile 2018iat6.txt .\n",
      "Converting to X and y arrays...\n",
      "Final shape of RTs chunk (after once more excluding cases w/ missing age or trials):  (19708, 120, 4)\n",
      "Final shape of outcomes chunk:  (19708, 2)\n",
      "IDs with less than 12 trials >300 ms: (19477, 120, 2)\n",
      "2018iat6.txt done\n",
      "Initial shape: 25772\n",
      "Removing no age ids: 22419\n"
     ]
    },
    {
     "name": "stderr",
     "output_type": "stream",
     "text": [
      "C:\\Users\\User1\\miniconda3\\lib\\site-packages\\numpy\\lib\\arraysetops.py:580: FutureWarning: elementwise comparison failed; returning scalar instead, but in the future will perform elementwise comparison\n",
      "  mask |= (ar1 == a)\n"
     ]
    },
    {
     "name": "stdout",
     "output_type": "stream",
     "text": [
      "Removing invalid ids: 22419\n",
      "After excluding zero latency IDs: 22284\n",
      "After excluding less than 120 trials IDs: 21987\n",
      "After excluding more than 50% error IDs: 21966\n",
      "After excluding zero error IDs: 20147\n",
      "Successfully read datafile 2018iat7.txt .\n",
      "Converting to X and y arrays...\n",
      "Final shape of RTs chunk (after once more excluding cases w/ missing age or trials):  (20147, 120, 4)\n",
      "Final shape of outcomes chunk:  (20147, 2)\n",
      "IDs with less than 12 trials >300 ms: (20057, 120, 2)\n",
      "2018iat7.txt done\n",
      "Initial shape: 25892\n",
      "Removing no age ids: 22632\n"
     ]
    },
    {
     "name": "stderr",
     "output_type": "stream",
     "text": [
      "C:\\Users\\User1\\miniconda3\\lib\\site-packages\\numpy\\lib\\arraysetops.py:580: FutureWarning: elementwise comparison failed; returning scalar instead, but in the future will perform elementwise comparison\n",
      "  mask |= (ar1 == a)\n"
     ]
    },
    {
     "name": "stdout",
     "output_type": "stream",
     "text": [
      "Removing invalid ids: 22632\n",
      "After excluding zero latency IDs: 22479\n",
      "After excluding less than 120 trials IDs: 22180\n",
      "After excluding more than 50% error IDs: 22169\n",
      "After excluding zero error IDs: 20547\n",
      "Successfully read datafile 2018iat8.txt .\n",
      "Converting to X and y arrays...\n",
      "Final shape of RTs chunk (after once more excluding cases w/ missing age or trials):  (20547, 120, 4)\n",
      "Final shape of outcomes chunk:  (20547, 2)\n",
      "IDs with less than 12 trials >300 ms: (20389, 120, 2)\n",
      "2018iat8.txt done\n",
      "Initial shape: 25731\n",
      "Removing no age ids: 22109\n"
     ]
    },
    {
     "name": "stderr",
     "output_type": "stream",
     "text": [
      "C:\\Users\\User1\\miniconda3\\lib\\site-packages\\numpy\\lib\\arraysetops.py:580: FutureWarning: elementwise comparison failed; returning scalar instead, but in the future will perform elementwise comparison\n",
      "  mask |= (ar1 == a)\n"
     ]
    },
    {
     "name": "stdout",
     "output_type": "stream",
     "text": [
      "Removing invalid ids: 22109\n",
      "After excluding zero latency IDs: 21959\n",
      "After excluding less than 120 trials IDs: 21649\n",
      "After excluding more than 50% error IDs: 21627\n",
      "After excluding zero error IDs: 20325\n",
      "Successfully read datafile 2018iat9.txt .\n",
      "Converting to X and y arrays...\n",
      "Final shape of RTs chunk (after once more excluding cases w/ missing age or trials):  (20325, 120, 4)\n",
      "Final shape of outcomes chunk:  (20325, 2)\n",
      "IDs with less than 12 trials >300 ms: (20108, 120, 2)\n",
      "2018iat9.txt done\n"
     ]
    }
   ],
   "source": [
    "#This is where the magic happens\n",
    "\n",
    "# 1. Store all data-set chunk names in a list\n",
    "datasets = os.listdir(PATH)\n",
    "\n",
    "# 2. For each chunk\n",
    "for dataset_name in datasets:\n",
    "    \n",
    "    # 2.1 Load chunk\n",
    "    X_test, y_test = prepare_data(dataset_name, black_not_african)\n",
    " \n",
    "    # 2.2 Preprocess chunk \n",
    "    # 2.2.1 Apply IAT exclusion criteria (conservative)\n",
    "    # 2.2.2 Format data for NN, negative coding\n",
    "    # 2.2.3 Add 0s for <0.3, and >10\n",
    "    X_test, y_test = data_cleaning_300(X_test, y_test)\n",
    "      \n",
    "    # 2.3 Estimate chunk\n",
    "    samples_dm = np.concatenate([model.sample(x, n_samples=2000,\n",
    "                                              to_numpy=True) for x in np.array_split(X_test, 20)], axis=1)\n",
    "                \n",
    "    # 2.4 Compute summaries: means, medians, stds, Q0.025, Q0.0975, post_corr\n",
    "    estimates = compute_summaries(samples_dm)\n",
    "    param_means = estimates[:,0:6]\n",
    "\n",
    "    # 2.5 Post-processing \n",
    "        # 2.5.1 find inices of implausible (out of prior) parameter means\n",
    "        # 2.5.2 remove from estimates\n",
    "        # 2.5.3 remove from datasets\n",
    "    data_chunk_clean, estimates_clean, y_clean = post_processing(X_test, estimates, param_means, y_test)\n",
    "      \n",
    "    # 2.6 Store everything together (serialized, pickle.dump) as a dict with keys \n",
    "    dict_to_store = {'data_array': data_chunk_clean, 'est_array': estimates_clean, \"outcome_array\": y_clean}\n",
    "    pickle.dump(dict_to_store,\n",
    "                open(PATH_TO_SAVE +str(black_not_african)+ str(dataset_name.replace('.txt', '.p') ),\"wb\"))\n",
    "    print(str(dataset_name)+ \" done\")\n",
    "\n",
    "# 3. Celebrate"
   ]
  }
 ],
 "metadata": {
  "kernelspec": {
   "display_name": "Python 3",
   "language": "python",
   "name": "python3"
  },
  "language_info": {
   "codemirror_mode": {
    "name": "ipython",
    "version": 3
   },
   "file_extension": ".py",
   "mimetype": "text/x-python",
   "name": "python",
   "nbconvert_exporter": "python",
   "pygments_lexer": "ipython3",
   "version": "3.7.0"
  },
  "toc": {
   "base_numbering": 1,
   "nav_menu": {},
   "number_sections": true,
   "sideBar": true,
   "skip_h1_title": false,
   "title_cell": "Table of Contents",
   "title_sidebar": "Contents",
   "toc_cell": false,
   "toc_position": {
    "height": "calc(100% - 180px)",
    "left": "10px",
    "top": "150px",
    "width": "175.733px"
   },
   "toc_section_display": true,
   "toc_window_display": true
  }
 },
 "nbformat": 4,
 "nbformat_minor": 2
}
