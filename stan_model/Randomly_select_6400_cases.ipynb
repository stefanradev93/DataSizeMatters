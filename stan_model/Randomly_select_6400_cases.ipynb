{
 "cells": [
  {
   "cell_type": "code",
   "execution_count": null,
   "metadata": {},
   "outputs": [],
   "source": [
    "#Path to data\n",
    "PATH = 'D:/iat/pickle/'\n",
    "\n",
    "# Load data chunks\n",
    "\n",
    "CompleteFrame = pd.DataFrame()\n",
    "for stimulus in [True, False]:\n",
    "    Frame = pd.DataFrame()\n",
    "    datasets = os.listdir(PATH+str(stimulus)+\"/\")\n",
    "    for dataset in datasets:\n",
    "        pickles = pickle.load(open(PATH +str(stimulus)+\"/\" +str(dataset), \"rb\" ))\n",
    "        \n",
    "        A= pickles['data_array']\n",
    "        B= pickles['outcome_array'][:,:1]\n",
    "        B=B.ravel()\n",
    "\n",
    "        raw_data = np.concatenate((A, \n",
    "                    np.broadcast_to(np.array(B)[:, None, None], A.shape[:-1] + (1,))), \n",
    "                   axis = -1)\n",
    "                \n",
    "        number_of_rows = raw_data.shape[0]\n",
    "        random_indices = np.random.choice(number_of_rows, size=100, replace=False)\n",
    "        raw_data = raw_data[random_indices, :, :]\n",
    "        \n",
    "        m,n,r = raw_data.shape\n",
    "        out_arr = np.column_stack((np.repeat(np.arange(m),n),raw_data.reshape(m*n,-1)))\n",
    "        out_df = pd.DataFrame(out_arr) \n",
    "        CompleteFrame = CompleteFrame.append(out_df, ignore_index=True)\n",
    "\n",
    "        \n",
    "CompleteFrame.to_csv(PATH+\"test.csv\", index=False)"
   ]
  }
 ],
 "metadata": {
  "kernelspec": {
   "display_name": "Python 3",
   "language": "python",
   "name": "python3"
  },
  "language_info": {
   "codemirror_mode": {
    "name": "ipython",
    "version": 3
   },
   "file_extension": ".py",
   "mimetype": "text/x-python",
   "name": "python",
   "nbconvert_exporter": "python",
   "pygments_lexer": "ipython3",
   "version": "3.7.0"
  }
 },
 "nbformat": 4,
 "nbformat_minor": 4
}
